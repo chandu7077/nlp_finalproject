{
 "cells": [
  {
   "cell_type": "markdown",
   "metadata": {},
   "source": [
    "# W266 Final Project\n",
    "## Chapter Perspective Classification of Game of Thrones Text Passages\n",
    "### Fall 2019\n",
    "### T. P. Goter\n",
    "\n",
    "## Data Cleaning and Text Labeling\n"
   ]
  },
  {
   "cell_type": "code",
   "execution_count": 1,
   "metadata": {},
   "outputs": [],
   "source": [
    "import pandas as pd\n",
    "import re\n",
    "import os\n",
    "from glob import glob\n",
    "import spacy\n",
    "import numpy as np\n",
    "%matplotlib inline\n",
    "from matplotlib import pyplot as plt\n",
    "from utils import tokenization\n",
    "\n",
    "# Load in the english spacy model\n",
    "nlp = spacy.load(\"en_core_web_sm\")\n",
    "\n",
    "line_sep = \"=\"*50 + \"\\n\""
   ]
  },
  {
   "cell_type": "markdown",
   "metadata": {},
   "source": [
    "## Create the Dataset\n",
    "This portion of the code basically brings in five text files, one for each Game of Thrones book. It loops over each line in each book and assesses whether the line is a chapter title. In Game of Thrones, chapter titles are character names. In each of the text files, chapter titles are presented as the only word on a new line and in all capital letters. Therefore, with some simple string operations we can generate a set of chapter labels. In all there are 17 unique chapter titles, including a \"PROLOGUE\" title."
   ]
  },
  {
   "cell_type": "code",
   "execution_count": 2,
   "metadata": {},
   "outputs": [
    {
     "name": "stdout",
     "output_type": "stream",
     "text": [
      "==================================================\n",
      "Processing the following files:\n",
      "./Data/raw_data/got_book1\n",
      "./Data/raw_data/got_book2\n",
      "./Data/raw_data/got_book3\n",
      "./Data/raw_data/got_book4\n",
      "./Data/raw_data/got_book5\n",
      "==================================================\n",
      "Processing ./Data/raw_data/got_book1\n",
      "HOUSE BARATHEON\n",
      "\n",
      "==================================================\n",
      "Processing ./Data/raw_data/got_book2\n",
      "APPENDIX—THE KINGS AND THEIR COURTS\n",
      "\n",
      "==================================================\n",
      "Processing ./Data/raw_data/got_book3\n",
      "Appendix\n",
      "\n",
      "==================================================\n",
      "Processing ./Data/raw_data/got_book4\n",
      "MEANWHILE, BACK ON THE WALL …\n",
      "\n",
      "==================================================\n",
      "Processing ./Data/raw_data/got_book5\n",
      "WESTEROS\n",
      "\n",
      "Generated 20 unique chapter titles\n",
      "The chapter titles are:\n",
      "ALAYNE\n",
      "ARYA\n",
      "BRAN\n",
      "BRIENNE\n",
      "CATELYN\n",
      "CERSEI\n",
      "DAENERYS\n",
      "DAVOS\n",
      "EDDARD\n",
      "EPILOGUE\n",
      "JAIME\n",
      "JON\n",
      "MELISANDRE\n",
      "PROLOGUE\n",
      "REEK\n",
      "SAMWELL\n",
      "SANSA\n",
      "THEON\n",
      "TYRION\n",
      "VICTARION\n"
     ]
    }
   ],
   "source": [
    "#\n",
    "data_path = './Data/raw_data/'\n",
    "\n",
    "# \n",
    "book_files = sorted([data_path + book for book in os.listdir(data_path) if \"got_book\" in book])\n",
    "\n",
    "print(line_sep + \"Processing the following files:\")\n",
    "for book in book_files:\n",
    "    print(book)\n",
    "\n",
    "# Instantiate some empty objects for use in the loops below\n",
    "titles = set()\n",
    "titles_book = set()\n",
    "books = set()\n",
    "chapter_count = 0\n",
    "dataset = []\n",
    "chapter = \"\"\n",
    "\n",
    "book_ends = ['HOUSE BARATHEON\\n', \n",
    "            'APPENDIX—THE KINGS AND THEIR COURTS\\n',\n",
    "            'Appendix\\n',\n",
    "            'MEANWHILE, BACK ON THE WALL …\\n',\n",
    "            'WESTEROS\\n']\n",
    "\n",
    "# Loop over each book\n",
    "for book in book_files:\n",
    "    flag = False\n",
    "    print(line_sep + \"Processing {}\".format(book))\n",
    "    \n",
    "    # Open the book and read all of the lines in\n",
    "    with open(book, \"r\") as file_in:\n",
    "        book_lines = file_in.readlines()\n",
    "    \n",
    "    # Loop over every line in the current book\n",
    "    for line in book_lines:\n",
    "        \n",
    "        # Don't process anything beyond the last chapter\n",
    "        if line in book_ends:\n",
    "            print(line)\n",
    "            if line == book_ends[-1]:\n",
    "                dataset.append(chapter)\n",
    "            flag = False\n",
    "            break\n",
    "        \n",
    "        # Split the line into words, if applicable\n",
    "        words = line.split()\n",
    "        if len(words) == 1:\n",
    "            \n",
    "            # Chapter titles are just capitalized, multicharacter, names\n",
    "            if words[0].isupper() and words[0].isalpha() and len(words[0])>1:\n",
    "                               \n",
    "                # Maintain a set of chapter titles and a set of chapter titles with the book number\n",
    "                titles_book.add((words[0],book[-1]))\n",
    "                titles.add(words[0])\n",
    "                books.add(book[-1])\n",
    "                \n",
    "                # If we have found a chapter name, update the chapter number\n",
    "                chapter_count += 1\n",
    "                \n",
    "                if flag:\n",
    "                    # Dataset is a list of strings where each string is the entire text from the chapter\n",
    "                    dataset.append((chapter, book[-1]))\n",
    "                \n",
    "                # Reset the chapter string\n",
    "                chapter = \"\"\n",
    "                \n",
    "                # Flag to indicate we are in the text of the book\n",
    "                flag = True\n",
    "        \n",
    "        # Add the current line to the chapter string\n",
    "        if flag:\n",
    "            chapter += line  \n",
    "\n",
    "\n",
    "print(\"Generated {} unique chapter titles\".format(len(titles)))\n",
    "print(\"The chapter titles are:\")\n",
    "for t in sorted(titles):\n",
    "    print(t)"
   ]
  },
  {
   "cell_type": "markdown",
   "metadata": {},
   "source": [
    "## Convert Chapter Data to Sentence Data\n",
    "In the end we will want to make predictions on short groupings of sentences, not full chapters and not single sentences. But to start lets break the labeled chapters into labeled sentences using the sentencizer from spacy.\n"
   ]
  },
  {
   "cell_type": "code",
   "execution_count": 3,
   "metadata": {},
   "outputs": [],
   "source": [
    "# We will add tuples of sentence, label to a new list\n",
    "sentence_ds = []\n",
    "\n",
    "# Create a spacy pipeline that tokenizes and sentencizes our chapters.\n",
    "sentencizer = nlp.create_pipe(\"sentencizer\")\n",
    "nlp.add_pipe(sentencizer)\n",
    "\n",
    "# Create counter for labels\n",
    "d = 0\n",
    "\n",
    "# Loop over all the chapter data\n",
    "for doc in nlp.pipe([chap[0] for chap in dataset if chap[0].split()[0] in titles],\n",
    "                    disable=[\"tagger\", \"parser\", \"ner\", \"textcat\"]):\n",
    "    \n",
    "    # Loop over each sentence\n",
    "    for sent in doc.sents:\n",
    "        words = sent.text.split()\n",
    "        \n",
    "        # Remove chapter label from the first sentence in each chapter\n",
    "        if len(words) > 0 and words[0] in titles:\n",
    "            label = dataset[d][1]\n",
    "            new_sentence = \" \".join(words[1:])\n",
    "        else:\n",
    "            new_sentence = sent.text\n",
    "            \n",
    "        # Add sentence and label to the list\n",
    "        sentence_ds.append((new_sentence, label))\n",
    "    d +=1 \n"
   ]
  },
  {
   "cell_type": "markdown",
   "metadata": {},
   "source": [
    "## Clean up\n",
    "Remove extraneous lines from our data"
   ]
  },
  {
   "cell_type": "code",
   "execution_count": 4,
   "metadata": {},
   "outputs": [],
   "source": [
    "# Remove dialogue quotes\n",
    "for ds in sentence_ds:   \n",
    "    # Get rid of lines that have Table of Contents in it as these are not part of the text\n",
    "    if 'Table of Contents' in ds[0]:\n",
    "        sentence_ds.remove(ds)\n"
   ]
  },
  {
   "cell_type": "markdown",
   "metadata": {},
   "source": [
    "## Create a DataFrame\n",
    "Let's push our information into a pandas dataframe with column labels. In doing this and exploring the data, it is uncovered that some extraneous page numbers have been treated as sentence beginnings. We remove these. We also remove blank lines. When we are done we reset our index and pickle our sentence/label dataframe for future use."
   ]
  },
  {
   "cell_type": "code",
   "execution_count": 5,
   "metadata": {},
   "outputs": [],
   "source": [
    "# Push the clean dataset into a dataframe\n",
    "df = pd.DataFrame(sentence_ds, columns=['text', 'label'])\n",
    "\n",
    "# Place some marker in the text column if it was an empty line\n",
    "df.text = df.text.map(lambda x: 'REMOVE' if len(x.split()) < 1 else x)\n",
    "\n",
    "# Remove the zero-word sentences\n",
    "df = df[~df.text.str.match('^REMOVE')]\n",
    "\n",
    "# Remove leading numbers (likely page numbers introduced from the original copy/paste)\n",
    "df.text = df.text.str.replace('^[0-9]+\\s', '')\n",
    "df.text = df.text.str.replace('[”“]+', '')\n",
    "df.text = df.text.str.replace('[\\n]+', ' ')\n",
    "\n",
    "# Reset dataframe index so rows are sequentially indexed\n",
    "df = df.reset_index(drop=True)\n",
    "\n",
    "# Write dataframe to pickle file for later use\n",
    "df.to_pickle('got_sent_w_labels.pkl')"
   ]
  },
  {
   "cell_type": "markdown",
   "metadata": {},
   "source": [
    "## Simple Data Exploration\n",
    "We look at how many different sentences we have and their average size. We will combine sentences up to a maximum length of 200 below."
   ]
  },
  {
   "cell_type": "code",
   "execution_count": 6,
   "metadata": {},
   "outputs": [
    {
     "name": "stdout",
     "output_type": "stream",
     "text": [
      "==================================================\n",
      "There are 151196 total sentences in our dataset.\n",
      "==================================================\n",
      "Median sentence length of 9.0 words\n",
      "==================================================\n",
      "Mean sentence length of 11.3 words\n",
      "==================================================\n",
      "Minimum sentence length of 1 words\n",
      " Wind.\n",
      "==================================================\n",
      "Maximum sentence length of 168 words\n",
      "All of it came pouring out of Brienne then, like black blood from a wound; the betrayals and betrothals, Red Ronnet and his rose, Lord Renly dancing with her, the wager for her maidenhead, the bitter tears she shed the night her king wed Margaery Tyrell, the mêlée at Bitterbridge, the rainbow cloak that she had been so proud of, the shadow in the king’s pavilion, Renly dying in her arms, Riverrun and Lady Catelyn, the voyage down the Trident, dueling Jaime in the woods, the Bloody Mummers, Jaime crying Sapphires, Jaime in the tub at Harrenhal with steam rising from his body, the taste of Vargo Hoat’s blood when she bit down on his ear, the bear pit, Jaime leaping down onto the sand, the long ride to King’s Landing, Sansa Stark, the vow she’d sworn to Jaime, the vow she’d sworn to Lady Catelyn, Oathkeeper, Duskendale, Maidenpool, Nimble Dick and Crackclaw and the Whispers, the men she’d killed … I have to find her, she finished. \n"
     ]
    }
   ],
   "source": [
    "# Add sentence length to dataframe\n",
    "df['sent_length'] = df.text.map(lambda x: len(x.split()))\n",
    "\n",
    "#\n",
    "print(line_sep+\"There are {} total sentences in our dataset.\".format(len(df)))\n",
    "print(line_sep+\"Median sentence length of {} words\".format(df.sent_length.median()))\n",
    "print(line_sep+\"Mean sentence length of {:.1f} words\".format(df.sent_length.mean()))\n",
    "print(line_sep+\"Minimum sentence length of {} words\".format(df.sent_length.min()))\n",
    "print(df.iloc[df.sent_length.idxmin()].text)\n",
    "print(line_sep+\"Maximum sentence length of {} words\".format(df.sent_length.max()))\n",
    "print(df.iloc[df.sent_length.idxmax()].text)\n"
   ]
  },
  {
   "cell_type": "markdown",
   "metadata": {},
   "source": [
    "## Create sequences\n",
    "Each sequence will be at least one sentence, but could be more. We use a word delimiter that results in TOKEN length sequences on the order of ~128 tokens in order to minimize the amount of wasted data. Based on the documentation for UDA, the 128 sequence length is the largest that can fit on an 11GB GPU (e.g., Colab)."
   ]
  },
  {
   "cell_type": "code",
   "execution_count": 7,
   "metadata": {},
   "outputs": [],
   "source": [
    "sents = list(df.text)\n",
    "x = 0 \n",
    "c = -1\n",
    "grouped_sent = \"\"\n",
    "groups = []\n",
    "while sents:\n",
    "    while x < 80: \n",
    "        if (c > 0 ) and len(grouped_sent) != 0 and ((df.loc[c-1].label != df.loc[c].label) or not sents):\n",
    "            break\n",
    "        grouped_sent += \" \" + sents.pop(0)\n",
    "        x = len(grouped_sent.split())\n",
    "        c += 1\n",
    "    groups.append((grouped_sent, df.loc[c].label))\n",
    "    grouped_sent = \"\"\n",
    "    x=0"
   ]
  },
  {
   "cell_type": "markdown",
   "metadata": {},
   "source": [
    "## Create dataframe of examples\n"
   ]
  },
  {
   "cell_type": "code",
   "execution_count": 8,
   "metadata": {},
   "outputs": [],
   "source": [
    "group_df = pd.DataFrame(groups,columns=['text', 'label'])\n",
    "\n",
    "# Add sequence length to dataframe\n",
    "group_df['seq_length'] = group_df.text.map(lambda x: len(x.split()))\n",
    "\n",
    "# Tokenize and add length of sequences that will be used by the actual model\n",
    "tokenizer = tokenization.FullTokenizer('bert_pretrained/bert_base/vocab.txt')\n",
    "group_df['tokens'] = group_df.text.map(lambda x: tokenizer.tokenize(x))\n",
    "group_df['token_length'] = group_df.tokens.map(lambda x: len(x))"
   ]
  },
  {
   "cell_type": "code",
   "execution_count": 9,
   "metadata": {},
   "outputs": [
    {
     "name": "stdout",
     "output_type": "stream",
     "text": [
      "==================================================\n",
      "There are 19438 total sequences in our dataset.\n",
      "==================================================\n",
      "Median sequence length of 86.0 words\n",
      "==================================================\n",
      "Mean sequence length of 88.1 words\n",
      "==================================================\n",
      "Minimum sequence length of 54 words\n",
      " yet now were heard again, ringing from the timbers of her father’s hall: The King in the North!  The King in the North!  THE KING IN THE NORTH! The comet’s tail spread across the dawn, a red slash that bled above the crags of Dragonstone like a wound in the pink and purple sky.\n",
      "==================================================\n",
      "Maximum sequence length of 209 words\n",
      " Galladon drowned when I was four and he was eight, though, and Alysanne and Arianne died still in the cradle. I am the only child the gods let him keep. The freakish one, not fit to be a son or daughter. All of it came pouring out of Brienne then, like black blood from a wound; the betrayals and betrothals, Red Ronnet and his rose, Lord Renly dancing with her, the wager for her maidenhead, the bitter tears she shed the night her king wed Margaery Tyrell, the mêlée at Bitterbridge, the rainbow cloak that she had been so proud of, the shadow in the king’s pavilion, Renly dying in her arms, Riverrun and Lady Catelyn, the voyage down the Trident, dueling Jaime in the woods, the Bloody Mummers, Jaime crying Sapphires, Jaime in the tub at Harrenhal with steam rising from his body, the taste of Vargo Hoat’s blood when she bit down on his ear, the bear pit, Jaime leaping down onto the sand, the long ride to King’s Landing, Sansa Stark, the vow she’d sworn to Jaime, the vow she’d sworn to Lady Catelyn, Oathkeeper, Duskendale, Maidenpool, Nimble Dick and Crackclaw and the Whispers, the men she’d killed … I have to find her, she finished. \n",
      "==================================================\n",
      "\n",
      "==================================================\n",
      "Median sequence length of 113.0 TOKENS\n",
      "==================================================\n",
      "Mean sequence length of 114.7 TOKENS\n",
      "==================================================\n",
      "Minimum sequence length of 67 TOKENS\n",
      "==================================================\n",
      "Maximum sequence length of 298 TOKENS\n"
     ]
    }
   ],
   "source": [
    "#\n",
    "print(line_sep+\"There are {} total sequences in our dataset.\".format(len(group_df)))\n",
    "print(line_sep+\"Median sequence length of {} words\".format(group_df.seq_length.median()))\n",
    "print(line_sep+\"Mean sequence length of {:.1f} words\".format(group_df.seq_length.mean()))\n",
    "print(line_sep+\"Minimum sequence length of {} words\".format(group_df.seq_length.min()))\n",
    "print(group_df.iloc[group_df.seq_length.idxmin()].text)\n",
    "print(line_sep+\"Maximum sequence length of {} words\".format(group_df.seq_length.max()))\n",
    "print(group_df.iloc[group_df.seq_length.idxmax()].text)\n",
    "print(line_sep)\n",
    "print(line_sep+\"Median sequence length of {} TOKENS\".format(group_df.token_length.median()))\n",
    "print(line_sep+\"Mean sequence length of {:.1f} TOKENS\".format(group_df.token_length.mean()))\n",
    "print(line_sep+\"Minimum sequence length of {} TOKENS\".format(group_df.token_length.min()))\n",
    "print(line_sep+\"Maximum sequence length of {} TOKENS\".format(group_df.token_length.max()))\n",
    "\n"
   ]
  },
  {
   "cell_type": "markdown",
   "metadata": {},
   "source": [
    "## Shuffle the Data\n",
    "Resample our dataframe to mix up the order."
   ]
  },
  {
   "cell_type": "code",
   "execution_count": 10,
   "metadata": {},
   "outputs": [
    {
     "name": "stdout",
     "output_type": "stream",
     "text": [
      "19438\n"
     ]
    },
    {
     "data": {
      "text/html": [
       "<div>\n",
       "<style scoped>\n",
       "    .dataframe tbody tr th:only-of-type {\n",
       "        vertical-align: middle;\n",
       "    }\n",
       "\n",
       "    .dataframe tbody tr th {\n",
       "        vertical-align: top;\n",
       "    }\n",
       "\n",
       "    .dataframe thead th {\n",
       "        text-align: right;\n",
       "    }\n",
       "</style>\n",
       "<table border=\"1\" class=\"dataframe\">\n",
       "  <thead>\n",
       "    <tr style=\"text-align: right;\">\n",
       "      <th></th>\n",
       "      <th>text</th>\n",
       "      <th>label</th>\n",
       "      <th>seq_length</th>\n",
       "      <th>tokens</th>\n",
       "      <th>token_length</th>\n",
       "    </tr>\n",
       "  </thead>\n",
       "  <tbody>\n",
       "    <tr>\n",
       "      <th>0</th>\n",
       "      <td>When the snows drifted forty and fifty feet h...</td>\n",
       "      <td>2</td>\n",
       "      <td>84</td>\n",
       "      <td>[when, the, snow, ##s, drifted, forty, and, fi...</td>\n",
       "      <td>104</td>\n",
       "    </tr>\n",
       "    <tr>\n",
       "      <th>1</th>\n",
       "      <td>No telling how long he’s been here.  By the t...</td>\n",
       "      <td>3</td>\n",
       "      <td>80</td>\n",
       "      <td>[no, telling, how, long, he, ’, s, been, here,...</td>\n",
       "      <td>100</td>\n",
       "    </tr>\n",
       "    <tr>\n",
       "      <th>2</th>\n",
       "      <td>She could hear the people screaming at her, ...</td>\n",
       "      <td>2</td>\n",
       "      <td>85</td>\n",
       "      <td>[she, could, hear, the, people, screaming, at,...</td>\n",
       "      <td>102</td>\n",
       "    </tr>\n",
       "    <tr>\n",
       "      <th>3</th>\n",
       "      <td>Stannis only seemed to half hear him.  I hav...</td>\n",
       "      <td>2</td>\n",
       "      <td>80</td>\n",
       "      <td>[stan, ##nis, only, seemed, to, half, hear, hi...</td>\n",
       "      <td>108</td>\n",
       "    </tr>\n",
       "    <tr>\n",
       "      <th>4</th>\n",
       "      <td>She would sooner sit bathed in the ruddy glow...</td>\n",
       "      <td>5</td>\n",
       "      <td>94</td>\n",
       "      <td>[she, would, sooner, sit, bathed, in, the, rud...</td>\n",
       "      <td>121</td>\n",
       "    </tr>\n",
       "  </tbody>\n",
       "</table>\n",
       "</div>"
      ],
      "text/plain": [
       "                                                text label  seq_length  \\\n",
       "0   When the snows drifted forty and fifty feet h...     2          84   \n",
       "1   No telling how long he’s been here.  By the t...     3          80   \n",
       "2    She could hear the people screaming at her, ...     2          85   \n",
       "3    Stannis only seemed to half hear him.  I hav...     2          80   \n",
       "4   She would sooner sit bathed in the ruddy glow...     5          94   \n",
       "\n",
       "                                              tokens  token_length  \n",
       "0  [when, the, snow, ##s, drifted, forty, and, fi...           104  \n",
       "1  [no, telling, how, long, he, ’, s, been, here,...           100  \n",
       "2  [she, could, hear, the, people, screaming, at,...           102  \n",
       "3  [stan, ##nis, only, seemed, to, half, hear, hi...           108  \n",
       "4  [she, would, sooner, sit, bathed, in, the, rud...           121  "
      ]
     },
     "execution_count": 10,
     "metadata": {},
     "output_type": "execute_result"
    }
   ],
   "source": [
    "group_df = group_df.sample(frac=1.0).reset_index(drop=True)\n",
    "print(len(group_df))\n",
    "group_df.head(5)"
   ]
  },
  {
   "cell_type": "markdown",
   "metadata": {},
   "source": [
    "## Separate into test, development, and training data\n",
    "\n",
    "There are 19,438 different pieces of data. We will use 15000 as training data, 2500 as development data and the rest as test data."
   ]
  },
  {
   "cell_type": "code",
   "execution_count": 11,
   "metadata": {},
   "outputs": [
    {
     "ename": "AttributeError",
     "evalue": "Unknown property c",
     "output_type": "error",
     "traceback": [
      "\u001b[0;31m---------------------------------------------------------------------------\u001b[0m",
      "\u001b[0;31mAttributeError\u001b[0m                            Traceback (most recent call last)",
      "\u001b[0;32m<ipython-input-11-8b86e16ed492>\u001b[0m in \u001b[0;36m<module>\u001b[0;34m\u001b[0m\n\u001b[0;32m----> 1\u001b[0;31m \u001b[0mgroup_df\u001b[0m\u001b[0;34m.\u001b[0m\u001b[0mseq_length\u001b[0m\u001b[0;34m.\u001b[0m\u001b[0mhist\u001b[0m\u001b[0;34m(\u001b[0m\u001b[0mbins\u001b[0m\u001b[0;34m=\u001b[0m\u001b[0;36m50\u001b[0m\u001b[0;34m,\u001b[0m \u001b[0mc\u001b[0m\u001b[0;34m=\u001b[0m\u001b[0;34m'tab:blue'\u001b[0m\u001b[0;34m)\u001b[0m\u001b[0;34m\u001b[0m\u001b[0;34m\u001b[0m\u001b[0m\n\u001b[0m",
      "\u001b[0;32m~/anaconda3/lib/python3.7/site-packages/pandas/plotting/_core.py\u001b[0m in \u001b[0;36mhist_series\u001b[0;34m(self, by, ax, grid, xlabelsize, xrot, ylabelsize, yrot, figsize, bins, **kwds)\u001b[0m\n\u001b[1;32m   2475\u001b[0m         \u001b[0mvalues\u001b[0m \u001b[0;34m=\u001b[0m \u001b[0mself\u001b[0m\u001b[0;34m.\u001b[0m\u001b[0mdropna\u001b[0m\u001b[0;34m(\u001b[0m\u001b[0;34m)\u001b[0m\u001b[0;34m.\u001b[0m\u001b[0mvalues\u001b[0m\u001b[0;34m\u001b[0m\u001b[0;34m\u001b[0m\u001b[0m\n\u001b[1;32m   2476\u001b[0m \u001b[0;34m\u001b[0m\u001b[0m\n\u001b[0;32m-> 2477\u001b[0;31m         \u001b[0max\u001b[0m\u001b[0;34m.\u001b[0m\u001b[0mhist\u001b[0m\u001b[0;34m(\u001b[0m\u001b[0mvalues\u001b[0m\u001b[0;34m,\u001b[0m \u001b[0mbins\u001b[0m\u001b[0;34m=\u001b[0m\u001b[0mbins\u001b[0m\u001b[0;34m,\u001b[0m \u001b[0;34m**\u001b[0m\u001b[0mkwds\u001b[0m\u001b[0;34m)\u001b[0m\u001b[0;34m\u001b[0m\u001b[0;34m\u001b[0m\u001b[0m\n\u001b[0m\u001b[1;32m   2478\u001b[0m         \u001b[0max\u001b[0m\u001b[0;34m.\u001b[0m\u001b[0mgrid\u001b[0m\u001b[0;34m(\u001b[0m\u001b[0mgrid\u001b[0m\u001b[0;34m)\u001b[0m\u001b[0;34m\u001b[0m\u001b[0;34m\u001b[0m\u001b[0m\n\u001b[1;32m   2479\u001b[0m         \u001b[0maxes\u001b[0m \u001b[0;34m=\u001b[0m \u001b[0mnp\u001b[0m\u001b[0;34m.\u001b[0m\u001b[0marray\u001b[0m\u001b[0;34m(\u001b[0m\u001b[0;34m[\u001b[0m\u001b[0max\u001b[0m\u001b[0;34m]\u001b[0m\u001b[0;34m)\u001b[0m\u001b[0;34m\u001b[0m\u001b[0;34m\u001b[0m\u001b[0m\n",
      "\u001b[0;32m~/anaconda3/lib/python3.7/site-packages/matplotlib/__init__.py\u001b[0m in \u001b[0;36minner\u001b[0;34m(ax, data, *args, **kwargs)\u001b[0m\n\u001b[1;32m   1808\u001b[0m                         \u001b[0;34m\"the Matplotlib list!)\"\u001b[0m \u001b[0;34m%\u001b[0m \u001b[0;34m(\u001b[0m\u001b[0mlabel_namer\u001b[0m\u001b[0;34m,\u001b[0m \u001b[0mfunc\u001b[0m\u001b[0;34m.\u001b[0m\u001b[0m__name__\u001b[0m\u001b[0;34m)\u001b[0m\u001b[0;34m,\u001b[0m\u001b[0;34m\u001b[0m\u001b[0;34m\u001b[0m\u001b[0m\n\u001b[1;32m   1809\u001b[0m                         RuntimeWarning, stacklevel=2)\n\u001b[0;32m-> 1810\u001b[0;31m             \u001b[0;32mreturn\u001b[0m \u001b[0mfunc\u001b[0m\u001b[0;34m(\u001b[0m\u001b[0max\u001b[0m\u001b[0;34m,\u001b[0m \u001b[0;34m*\u001b[0m\u001b[0margs\u001b[0m\u001b[0;34m,\u001b[0m \u001b[0;34m**\u001b[0m\u001b[0mkwargs\u001b[0m\u001b[0;34m)\u001b[0m\u001b[0;34m\u001b[0m\u001b[0;34m\u001b[0m\u001b[0m\n\u001b[0m\u001b[1;32m   1811\u001b[0m \u001b[0;34m\u001b[0m\u001b[0m\n\u001b[1;32m   1812\u001b[0m         inner.__doc__ = _add_data_doc(inner.__doc__,\n",
      "\u001b[0;32m~/anaconda3/lib/python3.7/site-packages/matplotlib/axes/_axes.py\u001b[0m in \u001b[0;36mhist\u001b[0;34m(self, x, bins, range, density, weights, cumulative, bottom, histtype, align, orientation, rwidth, log, color, label, stacked, normed, **kwargs)\u001b[0m\n\u001b[1;32m   6779\u001b[0m             \u001b[0;32mif\u001b[0m \u001b[0mpatch\u001b[0m\u001b[0;34m:\u001b[0m\u001b[0;34m\u001b[0m\u001b[0;34m\u001b[0m\u001b[0m\n\u001b[1;32m   6780\u001b[0m                 \u001b[0mp\u001b[0m \u001b[0;34m=\u001b[0m \u001b[0mpatch\u001b[0m\u001b[0;34m[\u001b[0m\u001b[0;36m0\u001b[0m\u001b[0;34m]\u001b[0m\u001b[0;34m\u001b[0m\u001b[0;34m\u001b[0m\u001b[0m\n\u001b[0;32m-> 6781\u001b[0;31m                 \u001b[0mp\u001b[0m\u001b[0;34m.\u001b[0m\u001b[0mupdate\u001b[0m\u001b[0;34m(\u001b[0m\u001b[0mkwargs\u001b[0m\u001b[0;34m)\u001b[0m\u001b[0;34m\u001b[0m\u001b[0;34m\u001b[0m\u001b[0m\n\u001b[0m\u001b[1;32m   6782\u001b[0m                 \u001b[0;32mif\u001b[0m \u001b[0mlbl\u001b[0m \u001b[0;32mis\u001b[0m \u001b[0;32mnot\u001b[0m \u001b[0;32mNone\u001b[0m\u001b[0;34m:\u001b[0m\u001b[0;34m\u001b[0m\u001b[0;34m\u001b[0m\u001b[0m\n\u001b[1;32m   6783\u001b[0m                     \u001b[0mp\u001b[0m\u001b[0;34m.\u001b[0m\u001b[0mset_label\u001b[0m\u001b[0;34m(\u001b[0m\u001b[0mlbl\u001b[0m\u001b[0;34m)\u001b[0m\u001b[0;34m\u001b[0m\u001b[0;34m\u001b[0m\u001b[0m\n",
      "\u001b[0;32m~/anaconda3/lib/python3.7/site-packages/matplotlib/artist.py\u001b[0m in \u001b[0;36mupdate\u001b[0;34m(self, props)\u001b[0m\n\u001b[1;32m    914\u001b[0m \u001b[0;34m\u001b[0m\u001b[0m\n\u001b[1;32m    915\u001b[0m         \u001b[0;32mwith\u001b[0m \u001b[0mcbook\u001b[0m\u001b[0;34m.\u001b[0m\u001b[0m_setattr_cm\u001b[0m\u001b[0;34m(\u001b[0m\u001b[0mself\u001b[0m\u001b[0;34m,\u001b[0m \u001b[0meventson\u001b[0m\u001b[0;34m=\u001b[0m\u001b[0;32mFalse\u001b[0m\u001b[0;34m)\u001b[0m\u001b[0;34m:\u001b[0m\u001b[0;34m\u001b[0m\u001b[0;34m\u001b[0m\u001b[0m\n\u001b[0;32m--> 916\u001b[0;31m             \u001b[0mret\u001b[0m \u001b[0;34m=\u001b[0m \u001b[0;34m[\u001b[0m\u001b[0m_update_property\u001b[0m\u001b[0;34m(\u001b[0m\u001b[0mself\u001b[0m\u001b[0;34m,\u001b[0m \u001b[0mk\u001b[0m\u001b[0;34m,\u001b[0m \u001b[0mv\u001b[0m\u001b[0;34m)\u001b[0m \u001b[0;32mfor\u001b[0m \u001b[0mk\u001b[0m\u001b[0;34m,\u001b[0m \u001b[0mv\u001b[0m \u001b[0;32min\u001b[0m \u001b[0mprops\u001b[0m\u001b[0;34m.\u001b[0m\u001b[0mitems\u001b[0m\u001b[0;34m(\u001b[0m\u001b[0;34m)\u001b[0m\u001b[0;34m]\u001b[0m\u001b[0;34m\u001b[0m\u001b[0;34m\u001b[0m\u001b[0m\n\u001b[0m\u001b[1;32m    917\u001b[0m \u001b[0;34m\u001b[0m\u001b[0m\n\u001b[1;32m    918\u001b[0m         \u001b[0;32mif\u001b[0m \u001b[0mlen\u001b[0m\u001b[0;34m(\u001b[0m\u001b[0mret\u001b[0m\u001b[0;34m)\u001b[0m\u001b[0;34m:\u001b[0m\u001b[0;34m\u001b[0m\u001b[0;34m\u001b[0m\u001b[0m\n",
      "\u001b[0;32m~/anaconda3/lib/python3.7/site-packages/matplotlib/artist.py\u001b[0m in \u001b[0;36m<listcomp>\u001b[0;34m(.0)\u001b[0m\n\u001b[1;32m    914\u001b[0m \u001b[0;34m\u001b[0m\u001b[0m\n\u001b[1;32m    915\u001b[0m         \u001b[0;32mwith\u001b[0m \u001b[0mcbook\u001b[0m\u001b[0;34m.\u001b[0m\u001b[0m_setattr_cm\u001b[0m\u001b[0;34m(\u001b[0m\u001b[0mself\u001b[0m\u001b[0;34m,\u001b[0m \u001b[0meventson\u001b[0m\u001b[0;34m=\u001b[0m\u001b[0;32mFalse\u001b[0m\u001b[0;34m)\u001b[0m\u001b[0;34m:\u001b[0m\u001b[0;34m\u001b[0m\u001b[0;34m\u001b[0m\u001b[0m\n\u001b[0;32m--> 916\u001b[0;31m             \u001b[0mret\u001b[0m \u001b[0;34m=\u001b[0m \u001b[0;34m[\u001b[0m\u001b[0m_update_property\u001b[0m\u001b[0;34m(\u001b[0m\u001b[0mself\u001b[0m\u001b[0;34m,\u001b[0m \u001b[0mk\u001b[0m\u001b[0;34m,\u001b[0m \u001b[0mv\u001b[0m\u001b[0;34m)\u001b[0m \u001b[0;32mfor\u001b[0m \u001b[0mk\u001b[0m\u001b[0;34m,\u001b[0m \u001b[0mv\u001b[0m \u001b[0;32min\u001b[0m \u001b[0mprops\u001b[0m\u001b[0;34m.\u001b[0m\u001b[0mitems\u001b[0m\u001b[0;34m(\u001b[0m\u001b[0;34m)\u001b[0m\u001b[0;34m]\u001b[0m\u001b[0;34m\u001b[0m\u001b[0;34m\u001b[0m\u001b[0m\n\u001b[0m\u001b[1;32m    917\u001b[0m \u001b[0;34m\u001b[0m\u001b[0m\n\u001b[1;32m    918\u001b[0m         \u001b[0;32mif\u001b[0m \u001b[0mlen\u001b[0m\u001b[0;34m(\u001b[0m\u001b[0mret\u001b[0m\u001b[0;34m)\u001b[0m\u001b[0;34m:\u001b[0m\u001b[0;34m\u001b[0m\u001b[0;34m\u001b[0m\u001b[0m\n",
      "\u001b[0;32m~/anaconda3/lib/python3.7/site-packages/matplotlib/artist.py\u001b[0m in \u001b[0;36m_update_property\u001b[0;34m(self, k, v)\u001b[0m\n\u001b[1;32m    910\u001b[0m                 \u001b[0mfunc\u001b[0m \u001b[0;34m=\u001b[0m \u001b[0mgetattr\u001b[0m\u001b[0;34m(\u001b[0m\u001b[0mself\u001b[0m\u001b[0;34m,\u001b[0m \u001b[0;34m'set_'\u001b[0m \u001b[0;34m+\u001b[0m \u001b[0mk\u001b[0m\u001b[0;34m,\u001b[0m \u001b[0;32mNone\u001b[0m\u001b[0;34m)\u001b[0m\u001b[0;34m\u001b[0m\u001b[0;34m\u001b[0m\u001b[0m\n\u001b[1;32m    911\u001b[0m                 \u001b[0;32mif\u001b[0m \u001b[0;32mnot\u001b[0m \u001b[0mcallable\u001b[0m\u001b[0;34m(\u001b[0m\u001b[0mfunc\u001b[0m\u001b[0;34m)\u001b[0m\u001b[0;34m:\u001b[0m\u001b[0;34m\u001b[0m\u001b[0;34m\u001b[0m\u001b[0m\n\u001b[0;32m--> 912\u001b[0;31m                     \u001b[0;32mraise\u001b[0m \u001b[0mAttributeError\u001b[0m\u001b[0;34m(\u001b[0m\u001b[0;34m'Unknown property %s'\u001b[0m \u001b[0;34m%\u001b[0m \u001b[0mk\u001b[0m\u001b[0;34m)\u001b[0m\u001b[0;34m\u001b[0m\u001b[0;34m\u001b[0m\u001b[0m\n\u001b[0m\u001b[1;32m    913\u001b[0m                 \u001b[0;32mreturn\u001b[0m \u001b[0mfunc\u001b[0m\u001b[0;34m(\u001b[0m\u001b[0mv\u001b[0m\u001b[0;34m)\u001b[0m\u001b[0;34m\u001b[0m\u001b[0;34m\u001b[0m\u001b[0m\n\u001b[1;32m    914\u001b[0m \u001b[0;34m\u001b[0m\u001b[0m\n",
      "\u001b[0;31mAttributeError\u001b[0m: Unknown property c"
     ]
    },
    {
     "data": {
      "image/png": "[encoded data removed]",
      "text/plain": [
       "<Figure size 432x288 with 1 Axes>"
      ]
     },
     "metadata": {
      "needs_background": "light"
     },
     "output_type": "display_data"
    }
   ],
   "source": [
    "group_df.seq_length.hist(bins=50, c='tab:blue')"
   ]
  },
  {
   "cell_type": "code",
   "execution_count": 41,
   "metadata": {},
   "outputs": [
    {
     "name": "stdout",
     "output_type": "stream",
     "text": [
      "['  Is it his fault the old man died? Stannis glanced into the fire.  I never wanted Cressen at that feast. He’d angered me, yes, he’d given me bad counsel, but I did not want him dead.  I’d hoped he might be granted a few years of ease and comfort. He had earned that much, at least, but—he ground his teeth together—but he died. And Pylos serves me ably.  Pylos is the least of it. The letter . . . What did your lords make of it, I wonder?']\n"
     ]
    }
   ],
   "source": [
    "a = group_df[group_df.text.str.contains(\"Stannis glanced into the fire\")].text\n",
    "print(a.values)"
   ]
  },
  {
   "cell_type": "code",
   "execution_count": 46,
   "metadata": {},
   "outputs": [
    {
     "data": {
      "text/plain": [
       "0         92\n",
       "1         85\n",
       "2         94\n",
       "3         88\n",
       "4         86\n",
       "5         86\n",
       "6         85\n",
       "7         84\n",
       "8         88\n",
       "9         90\n",
       "10        82\n",
       "11        86\n",
       "12        86\n",
       "13        90\n",
       "14        81\n",
       "15        85\n",
       "16        90\n",
       "17        80\n",
       "18        89\n",
       "19        81\n",
       "20        99\n",
       "21        84\n",
       "22        83\n",
       "23        80\n",
       "24        93\n",
       "25        83\n",
       "26        88\n",
       "27        91\n",
       "28        88\n",
       "29        80\n",
       "        ... \n",
       "19408     89\n",
       "19409     84\n",
       "19410     85\n",
       "19411     81\n",
       "19412     86\n",
       "19413     83\n",
       "19414     88\n",
       "19415     83\n",
       "19416     85\n",
       "19417     82\n",
       "19418    107\n",
       "19419     82\n",
       "19420     93\n",
       "19421     84\n",
       "19422     97\n",
       "19423     87\n",
       "19424     90\n",
       "19425     83\n",
       "19426     86\n",
       "19427     82\n",
       "19428     90\n",
       "19429     90\n",
       "19430     84\n",
       "19431     92\n",
       "19432     80\n",
       "19433     97\n",
       "19434     86\n",
       "19435     82\n",
       "19436     93\n",
       "19437     89\n",
       "Name: seq_length, Length: 19438, dtype: int64"
      ]
     },
     "execution_count": 46,
     "metadata": {},
     "output_type": "execute_result"
    }
   ],
   "source": [
    "group_df.seq_length"
   ]
  },
  {
   "cell_type": "code",
   "execution_count": 44,
   "metadata": {},
   "outputs": [
    {
     "data": {
      "text/plain": [
       "54"
      ]
     },
     "execution_count": 44,
     "metadata": {},
     "output_type": "execute_result"
    }
   ],
   "source": [
    "group_df.seq_length.min()"
   ]
  },
  {
   "cell_type": "code",
   "execution_count": 43,
   "metadata": {},
   "outputs": [
    {
     "data": {
      "text/plain": [
       "209"
      ]
     },
     "execution_count": 43,
     "metadata": {},
     "output_type": "execute_result"
    }
   ],
   "source": [
    "group_df.seq_length.max()"
   ]
  },
  {
   "cell_type": "code",
   "execution_count": 70,
   "metadata": {},
   "outputs": [],
   "source": [
    "train_df = group_df.loc[:15000]\n",
    "dev_df = group_df.loc[15000:17500]\n",
    "test_df = group_df.loc[17500:]"
   ]
  },
  {
   "cell_type": "code",
   "execution_count": 71,
   "metadata": {},
   "outputs": [],
   "source": [
    "train_df.to_pickle('./Data/train/train.pkl')\n",
    "dev_df.to_pickle('./Data/dev/dev.pkl')\n",
    "test_df.to_pickle('./Data/test/test.pkl')"
   ]
  },
  {
   "cell_type": "code",
   "execution_count": 72,
   "metadata": {},
   "outputs": [
    {
     "name": "stdout",
     "output_type": "stream",
     "text": [
      "15001 2501 1938\n"
     ]
    }
   ],
   "source": [
    "print(len(train_df), len(dev_df), len(test_df))"
   ]
  },
  {
   "cell_type": "code",
   "execution_count": 79,
   "metadata": {},
   "outputs": [
    {
     "name": "stdout",
     "output_type": "stream",
     "text": [
      "\n"
     ]
    },
    {
     "data": {
      "image/png": "[encoded data removed]",
      "text/plain": [
       "<Figure size 432x288 with 1 Axes>"
      ]
     },
     "metadata": {
      "needs_background": "light"
     },
     "output_type": "display_data"
    }
   ],
   "source": [
    "train_df.seq_length.hist(bins=50)\n",
    "print()"
   ]
  },
  {
   "cell_type": "code",
   "execution_count": 80,
   "metadata": {},
   "outputs": [
    {
     "name": "stdout",
     "output_type": "stream",
     "text": [
      "\n"
     ]
    },
    {
     "data": {
      "image/png": "[encoded data removed]",
      "text/plain": [
       "<Figure size 432x288 with 1 Axes>"
      ]
     },
     "metadata": {
      "needs_background": "light"
     },
     "output_type": "display_data"
    }
   ],
   "source": [
    "train_df.token_length.hist(bins=50)\n",
    "print()"
   ]
  },
  {
   "cell_type": "code",
   "execution_count": 52,
   "metadata": {},
   "outputs": [],
   "source": [
    "dummy = np.array([3,4,5])\n",
    "dummy_temp = np.array([3,4,5])/0.25\n",
    "sm_dummy = np.exp(dummy)/np.sum(np.exp(dummy))\n",
    "sm_dummy_temp = np.exp(dummy_temp)/np.sum(np.exp(dummy_temp))"
   ]
  },
  {
   "cell_type": "code",
   "execution_count": 53,
   "metadata": {},
   "outputs": [
    {
     "data": {
      "text/plain": [
       "array([0.09003057, 0.24472847, 0.66524096])"
      ]
     },
     "execution_count": 53,
     "metadata": {},
     "output_type": "execute_result"
    }
   ],
   "source": [
    "sm_dummy"
   ]
  },
  {
   "cell_type": "code",
   "execution_count": 54,
   "metadata": {},
   "outputs": [
    {
     "data": {
      "text/plain": [
       "array([3.29320439e-04, 1.79802867e-02, 9.81690393e-01])"
      ]
     },
     "execution_count": 54,
     "metadata": {},
     "output_type": "execute_result"
    }
   ],
   "source": [
    "sm_dummy_temp"
   ]
  },
  {
   "cell_type": "code",
   "execution_count": null,
   "metadata": {},
   "outputs": [],
   "source": []
  }
 ],
 "metadata": {
  "kernelspec": {
   "display_name": "Python 3",
   "language": "python",
   "name": "python3"
  },
  "language_info": {
   "codemirror_mode": {
    "name": "ipython",
    "version": 3
   },
   "file_extension": ".py",
   "mimetype": "text/x-python",
   "name": "python",
   "nbconvert_exporter": "python",
   "pygments_lexer": "ipython3",
   "version": "3.7.3"
  }
 },
 "nbformat": 4,
 "nbformat_minor": 2
}
