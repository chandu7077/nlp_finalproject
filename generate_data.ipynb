{
 "cells": [
  {
   "cell_type": "markdown",
   "metadata": {},
   "source": [
    "# W266 Final Project\n",
    "## Chapter Perspective Classification of Game of Thrones Text Passages\n",
    "### Fall 2019\n",
    "### T. P. Goter\n",
    "\n",
    "## Data Cleaning and Text Labeling\n"
   ]
  },
  {
   "cell_type": "code",
   "execution_count": 1,
   "metadata": {},
   "outputs": [],
   "source": [
    "import pandas as pd\n",
    "import re\n",
    "import os\n",
    "from glob import glob\n",
    "import spacy\n",
    "import numpy as np\n",
    "%matplotlib inline\n",
    "from matplotlib import pyplot as plt\n",
    "from utils import tokenization\n",
    "\n",
    "# Load in the english spacy model\n",
    "nlp = spacy.load(\"en_core_web_sm\")\n",
    "\n",
    "line_sep = \"=\"*50 + \"\\n\""
   ]
  },
  {
   "cell_type": "markdown",
   "metadata": {},
   "source": [
    "## Create the Dataset\n",
    "This portion of the code basically brings in five text files, one for each Game of Thrones book. It loops over each line in each book and assesses whether the line is a chapter title. In Game of Thrones, chapter titles are character names. In each of the text files, chapter titles are presented as the only word on a new line and in all capital letters. Therefore, with some simple string operations we can generate a set of chapter labels. In all there are 17 unique chapter titles, including a \"PROLOGUE\" title."
   ]
  },
  {
   "cell_type": "code",
   "execution_count": 11,
   "metadata": {},
   "outputs": [
    {
     "name": "stdout",
     "output_type": "stream",
     "text": [
      "==================================================\n",
      "Processing the following files:\n",
      "./Data/raw_data/got_book1\n",
      "./Data/raw_data/got_book2\n",
      "./Data/raw_data/got_book3\n",
      "./Data/raw_data/got_book4\n",
      "./Data/raw_data/got_book5\n",
      "==================================================\n",
      "Processing ./Data/raw_data/got_book1\n",
      "HOUSE BARATHEON\n",
      "\n",
      "==================================================\n",
      "Processing ./Data/raw_data/got_book2\n",
      "APPENDIX—THE KINGS AND THEIR COURTS\n",
      "\n",
      "==================================================\n",
      "Processing ./Data/raw_data/got_book3\n",
      "Appendix\n",
      "\n",
      "==================================================\n",
      "Processing ./Data/raw_data/got_book4\n",
      "MEANWHILE, BACK ON THE WALL …\n",
      "\n",
      "==================================================\n",
      "Processing ./Data/raw_data/got_book5\n",
      "WESTEROS\n",
      "\n",
      "Generated 20 unique chapter titles\n",
      "The chapter titles are:\n",
      "ALAYNE\n",
      "ARYA\n",
      "BRAN\n",
      "BRIENNE\n",
      "CATELYN\n",
      "CERSEI\n",
      "DAENERYS\n",
      "DAVOS\n",
      "EDDARD\n",
      "EPILOGUE\n",
      "JAIME\n",
      "JON\n",
      "MELISANDRE\n",
      "PROLOGUE\n",
      "REEK\n",
      "SAMWELL\n",
      "SANSA\n",
      "THEON\n",
      "TYRION\n",
      "VICTARION\n"
     ]
    }
   ],
   "source": [
    "#\n",
    "data_path = './Data/raw_data/'\n",
    "\n",
    "# \n",
    "book_files = sorted([data_path + book for book in os.listdir(data_path) if \"got_book\" in book])\n",
    "\n",
    "print(line_sep + \"Processing the following files:\")\n",
    "for book in book_files:\n",
    "    print(book)\n",
    "\n",
    "# Instantiate some empty objects for use in the loops below\n",
    "titles = set()\n",
    "titles_book = set()\n",
    "books = set()\n",
    "chapter_count = 0\n",
    "dataset = []\n",
    "chapter = \"\"\n",
    "\n",
    "book_ends = ['HOUSE BARATHEON\\n', \n",
    "            'APPENDIX—THE KINGS AND THEIR COURTS\\n',\n",
    "            'Appendix\\n',\n",
    "            'MEANWHILE, BACK ON THE WALL …\\n',\n",
    "            'WESTEROS\\n']\n",
    "\n",
    "# Loop over each book\n",
    "for book in book_files:\n",
    "    flag = False\n",
    "    print(line_sep + \"Processing {}\".format(book))\n",
    "    \n",
    "    # Open the book and read all of the lines in\n",
    "    with open(book, \"r\") as file_in:\n",
    "        book_lines = file_in.readlines()\n",
    "    \n",
    "    # Loop over every line in the current book\n",
    "    for line in book_lines:\n",
    "        \n",
    "        # Don't process anything beyond the last chapter\n",
    "        if line in book_ends:\n",
    "            print(line)\n",
    "            if line == book_ends[-1]:\n",
    "                dataset.append(chapter)\n",
    "            flag = False\n",
    "            break\n",
    "        \n",
    "        # Split the line into words, if applicable\n",
    "        words = line.split()\n",
    "        if len(words) == 1:\n",
    "            \n",
    "            # Chapter titles are just capitalized, multicharacter, names\n",
    "            if words[0].isupper() and words[0].isalpha() and len(words[0])>1:\n",
    "                               \n",
    "                # Maintain a set of chapter titles and a set of chapter titles with the book number\n",
    "                titles_book.add((words[0],book[-1]))\n",
    "                titles.add(words[0])\n",
    "                books.add(book[-1])\n",
    "                \n",
    "                # If we have found a chapter name, update the chapter number\n",
    "                chapter_count += 1\n",
    "                \n",
    "                if flag:\n",
    "                    # Dataset is a list of strings where each string is the entire text from the chapter\n",
    "                    dataset.append((chapter, book[-1]))\n",
    "                \n",
    "                # Reset the chapter string\n",
    "                chapter = \"\"\n",
    "                \n",
    "                # Flag to indicate we are in the text of the book\n",
    "                flag = True\n",
    "        \n",
    "        # Add the current line to the chapter string\n",
    "        if flag:\n",
    "            chapter += line  \n",
    "\n",
    "\n",
    "print(\"Generated {} unique chapter titles\".format(len(titles)))\n",
    "print(\"The chapter titles are:\")\n",
    "for t in sorted(titles):\n",
    "    print(t)"
   ]
  },
  {
   "cell_type": "markdown",
   "metadata": {},
   "source": [
    "## Convert Chapter Data to Sentence Data\n",
    "In the end we will want to make predictions on short groupings of sentences, not full chapters and not single sentences. But to start lets break the labeled chapters into labeled sentences using the sentencizer from spacy.\n"
   ]
  },
  {
   "cell_type": "code",
   "execution_count": 13,
   "metadata": {},
   "outputs": [],
   "source": [
    "# We will add tuples of sentence, label to a new list\n",
    "sentence_ds = []\n",
    "\n",
    "# Create a spacy pipeline that tokenizes and sentencizes our chapters.\n",
    "sentencizer = nlp.create_pipe(\"sentencizer\")\n",
    "nlp.add_pipe(sentencizer)\n",
    "\n",
    "# Create counter for labels\n",
    "d = 0\n",
    "\n",
    "# Loop over all the chapter data\n",
    "for doc in nlp.pipe([chap[0] for chap in dataset if chap[0].split()[0] in titles],\n",
    "                    disable=[\"tagger\", \"parser\", \"ner\", \"textcat\"]):\n",
    "    \n",
    "    # Loop over each sentence\n",
    "    for sent in doc.sents:\n",
    "        words = sent.text.split()\n",
    "        \n",
    "        # Remove chapter label from the first sentence in each chapter\n",
    "        if len(words) > 0 and words[0] in titles:\n",
    "            label = dataset[d][1]\n",
    "            new_sentence = \" \".join(words[1:])\n",
    "        else:\n",
    "            new_sentence = sent.text\n",
    "            \n",
    "        # Add sentence and label to the list\n",
    "        sentence_ds.append((new_sentence, label))\n",
    "    d +=1 \n"
   ]
  },
  {
   "cell_type": "markdown",
   "metadata": {},
   "source": [
    "## Clean up\n",
    "Remove extraneous lines from our data"
   ]
  },
  {
   "cell_type": "code",
   "execution_count": 14,
   "metadata": {},
   "outputs": [],
   "source": [
    "# Remove dialogue quotes\n",
    "for ds in sentence_ds:   \n",
    "    # Get rid of lines that have Table of Contents in it as these are not part of the text\n",
    "    if 'Table of Contents' in ds[0]:\n",
    "        sentence_ds.remove(ds)\n"
   ]
  },
  {
   "cell_type": "markdown",
   "metadata": {},
   "source": [
    "## Create a DataFrame\n",
    "Let's push our information into a pandas dataframe with column labels. In doing this and exploring the data, it is uncovered that some extraneous page numbers have been treated as sentence beginnings. We remove these. We also remove blank lines. When we are done we reset our index and pickle our sentence/label dataframe for future use."
   ]
  },
  {
   "cell_type": "code",
   "execution_count": 15,
   "metadata": {},
   "outputs": [],
   "source": [
    "# Push the clean dataset into a dataframe\n",
    "df = pd.DataFrame(sentence_ds, columns=['text', 'label'])\n",
    "\n",
    "# Place some marker in the text column if it was an empty line\n",
    "df.text = df.text.map(lambda x: 'REMOVE' if len(x.split()) < 1 else x)\n",
    "\n",
    "# Remove the zero-word sentences\n",
    "df = df[~df.text.str.match('^REMOVE')]\n",
    "\n",
    "# Remove leading numbers (likely page numbers introduced from the original copy/paste)\n",
    "df.text = df.text.str.replace('^[0-9]+\\s', '')\n",
    "df.text = df.text.str.replace('[”“]+', '')\n",
    "df.text = df.text.str.replace('[\\n]+', ' ')\n",
    "\n",
    "# Reset dataframe index so rows are sequentially indexed\n",
    "df = df.reset_index(drop=True)\n",
    "\n",
    "# Write dataframe to pickle file for later use\n",
    "df.to_pickle('got_sent_w_labels.pkl')"
   ]
  },
  {
   "cell_type": "markdown",
   "metadata": {},
   "source": [
    "## Simple Data Exploration\n",
    "We look at how many different sentences we have and their average size. We will combine sentences up to a maximum length of 200 below."
   ]
  },
  {
   "cell_type": "code",
   "execution_count": 16,
   "metadata": {},
   "outputs": [
    {
     "name": "stdout",
     "output_type": "stream",
     "text": [
      "==================================================\n",
      "There are 151196 total sentences in our dataset.\n",
      "==================================================\n",
      "Median sentence length of 9.0 words\n",
      "==================================================\n",
      "Mean sentence length of 11.3 words\n",
      "==================================================\n",
      "Minimum sentence length of 1 words\n",
      " Wind.\n",
      "==================================================\n",
      "Maximum sentence length of 168 words\n",
      "All of it came pouring out of Brienne then, like black blood from a wound; the betrayals and betrothals, Red Ronnet and his rose, Lord Renly dancing with her, the wager for her maidenhead, the bitter tears she shed the night her king wed Margaery Tyrell, the mêlée at Bitterbridge, the rainbow cloak that she had been so proud of, the shadow in the king’s pavilion, Renly dying in her arms, Riverrun and Lady Catelyn, the voyage down the Trident, dueling Jaime in the woods, the Bloody Mummers, Jaime crying Sapphires, Jaime in the tub at Harrenhal with steam rising from his body, the taste of Vargo Hoat’s blood when she bit down on his ear, the bear pit, Jaime leaping down onto the sand, the long ride to King’s Landing, Sansa Stark, the vow she’d sworn to Jaime, the vow she’d sworn to Lady Catelyn, Oathkeeper, Duskendale, Maidenpool, Nimble Dick and Crackclaw and the Whispers, the men she’d killed … I have to find her, she finished. \n"
     ]
    }
   ],
   "source": [
    "# Add sentence length to dataframe\n",
    "df['sent_length'] = df.text.map(lambda x: len(x.split()))\n",
    "\n",
    "#\n",
    "print(line_sep+\"There are {} total sentences in our dataset.\".format(len(df)))\n",
    "print(line_sep+\"Median sentence length of {} words\".format(df.sent_length.median()))\n",
    "print(line_sep+\"Mean sentence length of {:.1f} words\".format(df.sent_length.mean()))\n",
    "print(line_sep+\"Minimum sentence length of {} words\".format(df.sent_length.min()))\n",
    "print(df.iloc[df.sent_length.idxmin()].text)\n",
    "print(line_sep+\"Maximum sentence length of {} words\".format(df.sent_length.max()))\n",
    "print(df.iloc[df.sent_length.idxmax()].text)\n"
   ]
  },
  {
   "cell_type": "markdown",
   "metadata": {},
   "source": [
    "## Create sequences\n",
    "Each sequence will be at least one sentence, but could be more. We use a word delimiter that results in TOKEN length sequences on the order of ~128 tokens in order to minimize the amount of wasted data. Based on the documentation for UDA, the 128 sequence length is the largest that can fit on an 11GB GPU (e.g., Colab)."
   ]
  },
  {
   "cell_type": "code",
   "execution_count": 48,
   "metadata": {},
   "outputs": [],
   "source": [
    "sents = list(df.text)\n",
    "x = 0 \n",
    "c = -1\n",
    "grouped_sent = \"\"\n",
    "groups = []\n",
    "while sents:\n",
    "    while x < 80: \n",
    "        if (c > 0 ) and len(grouped_sent) != 0 and ((df.loc[c-1].label != df.loc[c].label) or not sents):\n",
    "            break\n",
    "        grouped_sent += \" \" + sents.pop(0)\n",
    "        x = len(grouped_sent.split())\n",
    "        c += 1\n",
    "    groups.append((grouped_sent, df.loc[c].label))\n",
    "    grouped_sent = \"\"\n",
    "    x=0"
   ]
  },
  {
   "cell_type": "markdown",
   "metadata": {},
   "source": [
    "## Create dataframe of examples\n"
   ]
  },
  {
   "cell_type": "code",
   "execution_count": 66,
   "metadata": {},
   "outputs": [],
   "source": [
    "group_df = pd.DataFrame(groups,columns=['text', 'label'])\n",
    "\n",
    "# Add sequence length to dataframe\n",
    "group_df['seq_length'] = group_df.text.map(lambda x: len(x.split()))\n",
    "\n",
    "# Tokenize and add length of sequences that will be used by the actual model\n",
    "tokenizer = tokenization.FullTokenizer('bert_pretrained/bert_base/vocab.txt')\n",
    "group_df['tokens'] = group_df.text.map(lambda x: tokenizer.tokenize(x))\n",
    "group_df['token_length'] = group_df.tokens.map(lambda x: len(x))"
   ]
  },
  {
   "cell_type": "code",
   "execution_count": 67,
   "metadata": {},
   "outputs": [
    {
     "name": "stdout",
     "output_type": "stream",
     "text": [
      "==================================================\n",
      "There are 19438 total sequences in our dataset.\n",
      "==================================================\n",
      "Median sequence length of 86.0 words\n",
      "==================================================\n",
      "Mean sequence length of 88.1 words\n",
      "==================================================\n",
      "Minimum sequence length of 54 words\n",
      " yet now were heard again, ringing from the timbers of her father’s hall: The King in the North!  The King in the North!  THE KING IN THE NORTH! The comet’s tail spread across the dawn, a red slash that bled above the crags of Dragonstone like a wound in the pink and purple sky.\n",
      "==================================================\n",
      "Maximum sequence length of 209 words\n",
      " Galladon drowned when I was four and he was eight, though, and Alysanne and Arianne died still in the cradle. I am the only child the gods let him keep. The freakish one, not fit to be a son or daughter. All of it came pouring out of Brienne then, like black blood from a wound; the betrayals and betrothals, Red Ronnet and his rose, Lord Renly dancing with her, the wager for her maidenhead, the bitter tears she shed the night her king wed Margaery Tyrell, the mêlée at Bitterbridge, the rainbow cloak that she had been so proud of, the shadow in the king’s pavilion, Renly dying in her arms, Riverrun and Lady Catelyn, the voyage down the Trident, dueling Jaime in the woods, the Bloody Mummers, Jaime crying Sapphires, Jaime in the tub at Harrenhal with steam rising from his body, the taste of Vargo Hoat’s blood when she bit down on his ear, the bear pit, Jaime leaping down onto the sand, the long ride to King’s Landing, Sansa Stark, the vow she’d sworn to Jaime, the vow she’d sworn to Lady Catelyn, Oathkeeper, Duskendale, Maidenpool, Nimble Dick and Crackclaw and the Whispers, the men she’d killed … I have to find her, she finished. \n",
      "==================================================\n",
      "\n",
      "==================================================\n",
      "Median sequence length of 113.0 TOKENS\n",
      "==================================================\n",
      "Mean sequence length of 114.7 TOKENS\n",
      "==================================================\n",
      "Minimum sequence length of 67 TOKENS\n",
      "==================================================\n",
      "Maximum sequence length of 298 TOKENS\n"
     ]
    }
   ],
   "source": [
    "#\n",
    "print(line_sep+\"There are {} total sequences in our dataset.\".format(len(group_df)))\n",
    "print(line_sep+\"Median sequence length of {} words\".format(group_df.seq_length.median()))\n",
    "print(line_sep+\"Mean sequence length of {:.1f} words\".format(group_df.seq_length.mean()))\n",
    "print(line_sep+\"Minimum sequence length of {} words\".format(group_df.seq_length.min()))\n",
    "print(group_df.iloc[group_df.seq_length.idxmin()].text)\n",
    "print(line_sep+\"Maximum sequence length of {} words\".format(group_df.seq_length.max()))\n",
    "print(group_df.iloc[group_df.seq_length.idxmax()].text)\n",
    "print(line_sep)\n",
    "print(line_sep+\"Median sequence length of {} TOKENS\".format(group_df.token_length.median()))\n",
    "print(line_sep+\"Mean sequence length of {:.1f} TOKENS\".format(group_df.token_length.mean()))\n",
    "print(line_sep+\"Minimum sequence length of {} TOKENS\".format(group_df.token_length.min()))\n",
    "print(line_sep+\"Maximum sequence length of {} TOKENS\".format(group_df.token_length.max()))\n",
    "\n"
   ]
  },
  {
   "cell_type": "markdown",
   "metadata": {},
   "source": [
    "## Shuffle the Data\n",
    "Resample our dataframe to mix up the order."
   ]
  },
  {
   "cell_type": "code",
   "execution_count": 68,
   "metadata": {},
   "outputs": [
    {
     "name": "stdout",
     "output_type": "stream",
     "text": [
      "19438\n"
     ]
    },
    {
     "data": {
      "text/html": [
       "<div>\n",
       "<style scoped>\n",
       "    .dataframe tbody tr th:only-of-type {\n",
       "        vertical-align: middle;\n",
       "    }\n",
       "\n",
       "    .dataframe tbody tr th {\n",
       "        vertical-align: top;\n",
       "    }\n",
       "\n",
       "    .dataframe thead th {\n",
       "        text-align: right;\n",
       "    }\n",
       "</style>\n",
       "<table border=\"1\" class=\"dataframe\">\n",
       "  <thead>\n",
       "    <tr style=\"text-align: right;\">\n",
       "      <th></th>\n",
       "      <th>text</th>\n",
       "      <th>label</th>\n",
       "      <th>seq_length</th>\n",
       "      <th>tokens</th>\n",
       "      <th>token_length</th>\n",
       "    </tr>\n",
       "  </thead>\n",
       "  <tbody>\n",
       "    <tr>\n",
       "      <th>0</th>\n",
       "      <td>She would have been my daughter, if the Mad K...</td>\n",
       "      <td>4</td>\n",
       "      <td>89</td>\n",
       "      <td>[she, would, have, been, my, daughter, ,, if, ...</td>\n",
       "      <td>112</td>\n",
       "    </tr>\n",
       "    <tr>\n",
       "      <th>1</th>\n",
       "      <td>You’ve been hurt. He took her hands in his ow...</td>\n",
       "      <td>1</td>\n",
       "      <td>81</td>\n",
       "      <td>[you, ’, ve, been, hurt, ., he, took, her, han...</td>\n",
       "      <td>101</td>\n",
       "    </tr>\n",
       "    <tr>\n",
       "      <th>2</th>\n",
       "      <td>Pinchbottom Petto and Sloe-Eyed Maid were to...</td>\n",
       "      <td>2</td>\n",
       "      <td>86</td>\n",
       "      <td>[pinch, ##bot, ##tom, pet, ##to, and, sl, ##oe...</td>\n",
       "      <td>117</td>\n",
       "    </tr>\n",
       "    <tr>\n",
       "      <th>3</th>\n",
       "      <td>Is it his fault the old man died? Stannis gl...</td>\n",
       "      <td>2</td>\n",
       "      <td>88</td>\n",
       "      <td>[is, it, his, fault, the, old, man, died, ?, s...</td>\n",
       "      <td>121</td>\n",
       "    </tr>\n",
       "    <tr>\n",
       "      <th>4</th>\n",
       "      <td>One, two, three, four, Davos counted, before ...</td>\n",
       "      <td>5</td>\n",
       "      <td>80</td>\n",
       "      <td>[one, ,, two, ,, three, ,, four, ,, da, ##vos,...</td>\n",
       "      <td>106</td>\n",
       "    </tr>\n",
       "  </tbody>\n",
       "</table>\n",
       "</div>"
      ],
      "text/plain": [
       "                                                text label  seq_length  \\\n",
       "0   She would have been my daughter, if the Mad K...     4          89   \n",
       "1   You’ve been hurt. He took her hands in his ow...     1          81   \n",
       "2    Pinchbottom Petto and Sloe-Eyed Maid were to...     2          86   \n",
       "3    Is it his fault the old man died? Stannis gl...     2          88   \n",
       "4   One, two, three, four, Davos counted, before ...     5          80   \n",
       "\n",
       "                                              tokens  token_length  \n",
       "0  [she, would, have, been, my, daughter, ,, if, ...           112  \n",
       "1  [you, ’, ve, been, hurt, ., he, took, her, han...           101  \n",
       "2  [pinch, ##bot, ##tom, pet, ##to, and, sl, ##oe...           117  \n",
       "3  [is, it, his, fault, the, old, man, died, ?, s...           121  \n",
       "4  [one, ,, two, ,, three, ,, four, ,, da, ##vos,...           106  "
      ]
     },
     "execution_count": 68,
     "metadata": {},
     "output_type": "execute_result"
    }
   ],
   "source": [
    "group_df = group_df.sample(frac=1.0).reset_index(drop=True)\n",
    "print(len(group_df))\n",
    "group_df.head(5)"
   ]
  },
  {
   "cell_type": "markdown",
   "metadata": {},
   "source": [
    "## Separate into test, development, and training data\n",
    "\n",
    "There are 19,438 different pieces of data. We will use 15000 as training data, 2500 as development data and the rest as test data."
   ]
  },
  {
   "cell_type": "code",
   "execution_count": 69,
   "metadata": {},
   "outputs": [
    {
     "data": {
      "text/plain": [
       "5    4635\n",
       "3    4575\n",
       "2    3608\n",
       "1    3313\n",
       "4    3307\n",
       "Name: label, dtype: int64"
      ]
     },
     "execution_count": 69,
     "metadata": {},
     "output_type": "execute_result"
    }
   ],
   "source": [
    "group_df.label.value_counts()"
   ]
  },
  {
   "cell_type": "code",
   "execution_count": 70,
   "metadata": {},
   "outputs": [],
   "source": [
    "train_df = group_df.loc[:15000]\n",
    "dev_df = group_df.loc[15000:17500]\n",
    "test_df = group_df.loc[17500:]"
   ]
  },
  {
   "cell_type": "code",
   "execution_count": 71,
   "metadata": {},
   "outputs": [],
   "source": [
    "train_df.to_pickle('./Data/train/train.pkl')\n",
    "dev_df.to_pickle('./Data/dev/dev.pkl')\n",
    "test_df.to_pickle('./Data/test/test.pkl')"
   ]
  },
  {
   "cell_type": "code",
   "execution_count": 72,
   "metadata": {},
   "outputs": [
    {
     "name": "stdout",
     "output_type": "stream",
     "text": [
      "15001 2501 1938\n"
     ]
    }
   ],
   "source": [
    "print(len(train_df), len(dev_df), len(test_df))"
   ]
  },
  {
   "cell_type": "code",
   "execution_count": 79,
   "metadata": {},
   "outputs": [
    {
     "name": "stdout",
     "output_type": "stream",
     "text": [
      "\n"
     ]
    },
    {
     "data": {
      "image/png": "[encoded data removed]",
      "text/plain": [
       "<Figure size 432x288 with 1 Axes>"
      ]
     },
     "metadata": {
      "needs_background": "light"
     },
     "output_type": "display_data"
    }
   ],
   "source": [
    "train_df.seq_length.hist(bins=50)\n",
    "print()"
   ]
  },
  {
   "cell_type": "code",
   "execution_count": 80,
   "metadata": {},
   "outputs": [
    {
     "name": "stdout",
     "output_type": "stream",
     "text": [
      "\n"
     ]
    },
    {
     "data": {
      "image/png": "[encoded data removed]",
      "text/plain": [
       "<Figure size 432x288 with 1 Axes>"
      ]
     },
     "metadata": {
      "needs_background": "light"
     },
     "output_type": "display_data"
    }
   ],
   "source": [
    "train_df.token_length.hist(bins=50)\n",
    "print()"
   ]
  },
  {
   "cell_type": "code",
   "execution_count": null,
   "metadata": {},
   "outputs": [],
   "source": []
  }
 ],
 "metadata": {
  "kernelspec": {
   "display_name": "Python 3",
   "language": "python",
   "name": "python3"
  },
  "language_info": {
   "codemirror_mode": {
    "name": "ipython",
    "version": 3
   },
   "file_extension": ".py",
   "mimetype": "text/x-python",
   "name": "python",
   "nbconvert_exporter": "python",
   "pygments_lexer": "ipython3",
   "version": "3.7.3"
  }
 },
 "nbformat": 4,
 "nbformat_minor": 2
}
