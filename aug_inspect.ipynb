{
 "cells": [
  {
   "cell_type": "markdown",
   "metadata": {},
   "source": [
    "## Augmentation Inspection\n",
    "This notebook is used to sample the augmented training data and inspect it."
   ]
  },
  {
   "cell_type": "code",
   "execution_count": 92,
   "metadata": {},
   "outputs": [],
   "source": [
    "import numpy as np\n",
    "import os\n",
    "import tensorflow as tf\n",
    "import collections\n",
    "from utils import tokenization\n",
    "tf.enable_eager_execution()"
   ]
  },
  {
   "cell_type": "markdown",
   "metadata": {},
   "source": [
    "### Get Paths to the Different Data Augmentation Directories"
   ]
  },
  {
   "cell_type": "code",
   "execution_count": 98,
   "metadata": {},
   "outputs": [],
   "source": [
    "data_base_path = './Data/proc_Data/GoT/unsup'\n",
    "prob_factors = np.arange(0.1,0.2,0.1)\n",
    "copy_number = '0'\n",
    "data_record_paths = [os.path.join(data_base_path, 'tf_idf-{:0.1f}'.format(x), copy_number, \"tf_examples.tfrecord*\") for x in prob_factors]\n",
    "data_files = [tf.contrib.slim.parallel_reader.get_data_files(\n",
    "          data_record_path) for data_record_path in data_record_paths]"
   ]
  },
  {
   "cell_type": "markdown",
   "metadata": {},
   "source": [
    "### Feature Specifications is a mapping of the different \"columns\" of data stored in the tfrecords files."
   ]
  },
  {
   "cell_type": "code",
   "execution_count": 99,
   "metadata": {},
   "outputs": [
    {
     "ename": "NameError",
     "evalue": "name 'max_seq_len' is not defined",
     "output_type": "error",
     "traceback": [
      "\u001b[0;31m---------------------------------------------------------------------------\u001b[0m",
      "\u001b[0;31mNameError\u001b[0m                                 Traceback (most recent call last)",
      "\u001b[0;32m<ipython-input-99-7ab91ff02bc1>\u001b[0m in \u001b[0;36m<module>\u001b[0;34m\u001b[0m\n\u001b[1;32m      1\u001b[0m \u001b[0mfeature_specs\u001b[0m \u001b[0;34m=\u001b[0m \u001b[0mcollections\u001b[0m\u001b[0;34m.\u001b[0m\u001b[0mOrderedDict\u001b[0m\u001b[0;34m(\u001b[0m\u001b[0;34m)\u001b[0m\u001b[0;34m\u001b[0m\u001b[0;34m\u001b[0m\u001b[0m\n\u001b[0;32m----> 2\u001b[0;31m \u001b[0mfeature_specs\u001b[0m\u001b[0;34m[\u001b[0m\u001b[0;34m\"ori_input_ids\"\u001b[0m\u001b[0;34m]\u001b[0m \u001b[0;34m=\u001b[0m \u001b[0mtf\u001b[0m\u001b[0;34m.\u001b[0m\u001b[0mio\u001b[0m\u001b[0;34m.\u001b[0m\u001b[0mFixedLenFeature\u001b[0m\u001b[0;34m(\u001b[0m\u001b[0;34m[\u001b[0m\u001b[0mmax_seq_len\u001b[0m\u001b[0;34m]\u001b[0m\u001b[0;34m,\u001b[0m \u001b[0mtf\u001b[0m\u001b[0;34m.\u001b[0m\u001b[0mint64\u001b[0m\u001b[0;34m)\u001b[0m\u001b[0;34m\u001b[0m\u001b[0;34m\u001b[0m\u001b[0m\n\u001b[0m\u001b[1;32m      3\u001b[0m \u001b[0mfeature_specs\u001b[0m\u001b[0;34m[\u001b[0m\u001b[0;34m\"ori_input_mask\"\u001b[0m\u001b[0;34m]\u001b[0m \u001b[0;34m=\u001b[0m \u001b[0mtf\u001b[0m\u001b[0;34m.\u001b[0m\u001b[0mio\u001b[0m\u001b[0;34m.\u001b[0m\u001b[0mFixedLenFeature\u001b[0m\u001b[0;34m(\u001b[0m\u001b[0;34m[\u001b[0m\u001b[0mmax_seq_len\u001b[0m\u001b[0;34m]\u001b[0m\u001b[0;34m,\u001b[0m \u001b[0mtf\u001b[0m\u001b[0;34m.\u001b[0m\u001b[0mint64\u001b[0m\u001b[0;34m)\u001b[0m\u001b[0;34m\u001b[0m\u001b[0;34m\u001b[0m\u001b[0m\n\u001b[1;32m      4\u001b[0m \u001b[0mfeature_specs\u001b[0m\u001b[0;34m[\u001b[0m\u001b[0;34m\"ori_input_type_ids\"\u001b[0m\u001b[0;34m]\u001b[0m \u001b[0;34m=\u001b[0m \u001b[0mtf\u001b[0m\u001b[0;34m.\u001b[0m\u001b[0mio\u001b[0m\u001b[0;34m.\u001b[0m\u001b[0mFixedLenFeature\u001b[0m\u001b[0;34m(\u001b[0m\u001b[0;34m[\u001b[0m\u001b[0mmax_seq_len\u001b[0m\u001b[0;34m]\u001b[0m\u001b[0;34m,\u001b[0m \u001b[0mtf\u001b[0m\u001b[0;34m.\u001b[0m\u001b[0mint64\u001b[0m\u001b[0;34m)\u001b[0m\u001b[0;34m\u001b[0m\u001b[0;34m\u001b[0m\u001b[0m\n\u001b[1;32m      5\u001b[0m \u001b[0mfeature_specs\u001b[0m\u001b[0;34m[\u001b[0m\u001b[0;34m\"aug_input_ids\"\u001b[0m\u001b[0;34m]\u001b[0m \u001b[0;34m=\u001b[0m \u001b[0mtf\u001b[0m\u001b[0;34m.\u001b[0m\u001b[0mio\u001b[0m\u001b[0;34m.\u001b[0m\u001b[0mFixedLenFeature\u001b[0m\u001b[0;34m(\u001b[0m\u001b[0;34m[\u001b[0m\u001b[0mmax_seq_len\u001b[0m\u001b[0;34m]\u001b[0m\u001b[0;34m,\u001b[0m \u001b[0mtf\u001b[0m\u001b[0;34m.\u001b[0m\u001b[0mint64\u001b[0m\u001b[0;34m)\u001b[0m\u001b[0;34m\u001b[0m\u001b[0;34m\u001b[0m\u001b[0m\n",
      "\u001b[0;31mNameError\u001b[0m: name 'max_seq_len' is not defined"
     ]
    }
   ],
   "source": [
    "feature_specs = collections.OrderedDict()\n",
    "feature_specs[\"ori_input_ids\"] = tf.io.FixedLenFeature([max_seq_len], tf.int64)\n",
    "feature_specs[\"ori_input_mask\"] = tf.io.FixedLenFeature([max_seq_len], tf.int64)\n",
    "feature_specs[\"ori_input_type_ids\"] = tf.io.FixedLenFeature([max_seq_len], tf.int64)\n",
    "feature_specs[\"aug_input_ids\"] = tf.io.FixedLenFeature([max_seq_len], tf.int64)\n",
    "feature_specs[\"aug_input_mask\"] = tf.io.FixedLenFeature([max_seq_len], tf.int64)\n",
    "feature_specs[\"aug_input_type_ids\"] = tf.io.FixedLenFeature([max_seq_len], tf.int64)\n"
   ]
  },
  {
   "cell_type": "markdown",
   "metadata": {},
   "source": [
    "### Use the cell below to create mappings of words to ids and ids to words"
   ]
  },
  {
   "cell_type": "code",
   "execution_count": 100,
   "metadata": {},
   "outputs": [],
   "source": [
    "vocab_file = \"./bert_pretrained/bert_base/vocab.txt\"\n",
    "\n",
    "vocab = tokenization.load_vocab(vocab_file)\n",
    "ids_dict = tokenization.load_ids(vocab)"
   ]
  },
  {
   "cell_type": "code",
   "execution_count": 101,
   "metadata": {},
   "outputs": [
    {
     "name": "stdout",
     "output_type": "stream",
     "text": [
      "Original Sequence:\n",
      " [CLS] brien ##ne was moving , slow and wary , sword to hand ; step , turn , and listen . each step made a little splash . a cave lion ? dire ##wo ##lves ? some bear ? tell me , jaime . what lives here ? what lives in the darkness ? doom . no bear , he knew . no lion . only doom . in the cool silvery - blue light of the swords , the big wen ##ch looked pale and fierce . i mis ##like this place . i ’ m not fond of it myself . their blades made a little island of light , but all around them stretched a sea of darkness , une ##nding . [SEP] [PAD] [PAD]\n",
      "\n",
      "\n",
      "Augmented Sequence with p=0.1:\n",
      " [CLS] moving , slow and wary , sword to hand ; step , turn , and listen figured bath ##house step made a wrists splash gods ##way a cave lion ? dire ##wo ##lves ? some bear ? tell tap , jaime . what lives here ? what lives in ( darkness trees doom . no bear , he knew . no moaning . only doom . in the cool silvery - blue light of the swords , the big wen ##ch looked pale and fierce . i mis ##like this place . i ’ una ##fra ##id not fond of it myself . their enough made a little da ##bbed of light , but all around them stretched grandfather sea pepper darkness , une ##nding . [SEP]\n",
      "\n",
      "\n"
     ]
    }
   ],
   "source": [
    "for i,infile in enumerate(data_files):\n",
    "    for example in tf.python_io.tf_record_iterator(infile[-1]):\n",
    "        a = tf.train.Example.FromString(example)\n",
    "        orig_int_list = [a.features.feature['ori_input_ids'].int64_list.value[i] for i in range(0,128)]\n",
    "        aug_int_list = [a.features.feature['aug_input_ids'].int64_list.value[i] for i in range(0,128)]\n",
    "        orig_seq = tokenization.convert_ids_to_words(orig_int_list, ids_dict)\n",
    "        aug_seq = tokenization.convert_ids_to_words(aug_int_list, ids_dict)\n",
    "        print(\"Original Sequence:\\n {}\\n\\n\".format(\" \".join(orig_seq)))\n",
    "        print(\"Augmented Sequence with p={}:\\n {}\\n\\n\".format(prob_factors[i], \" \".join(aug_seq)))\n",
    "        break"
   ]
  },
  {
   "cell_type": "code",
   "execution_count": 105,
   "metadata": {},
   "outputs": [
    {
     "data": {
      "text/plain": [
       "[101,\n",
       " 9848,\n",
       " 2638,\n",
       " 2001,\n",
       " 3048,\n",
       " 1010,\n",
       " 4030,\n",
       " 1998,\n",
       " 15705,\n",
       " 1010,\n",
       " 4690,\n",
       " 2000,\n",
       " 2192,\n",
       " 1025,\n",
       " 3357,\n",
       " 1010,\n",
       " 2735,\n",
       " 1010,\n",
       " 1998,\n",
       " 4952,\n",
       " 1012,\n",
       " 2169,\n",
       " 3357,\n",
       " 2081,\n",
       " 1037,\n",
       " 2210,\n",
       " 17624,\n",
       " 1012,\n",
       " 1037,\n",
       " 5430,\n",
       " 7006,\n",
       " 1029,\n",
       " 18704,\n",
       " 12155,\n",
       " 20899,\n",
       " 1029,\n",
       " 2070,\n",
       " 4562,\n",
       " 1029,\n",
       " 2425,\n",
       " 2033,\n",
       " 1010,\n",
       " 14519,\n",
       " 1012,\n",
       " 2054,\n",
       " 3268,\n",
       " 2182,\n",
       " 1029,\n",
       " 2054,\n",
       " 3268,\n",
       " 1999,\n",
       " 1996,\n",
       " 4768,\n",
       " 1029,\n",
       " 12677,\n",
       " 1012,\n",
       " 2053,\n",
       " 4562,\n",
       " 1010,\n",
       " 2002,\n",
       " 2354,\n",
       " 1012,\n",
       " 2053,\n",
       " 7006,\n",
       " 1012,\n",
       " 2069,\n",
       " 12677,\n",
       " 1012,\n",
       " 1999,\n",
       " 1996,\n",
       " 4658,\n",
       " 21666,\n",
       " 1011,\n",
       " 2630,\n",
       " 2422,\n",
       " 1997,\n",
       " 1996,\n",
       " 10689,\n",
       " 1010,\n",
       " 1996,\n",
       " 2502,\n",
       " 19181,\n",
       " 2818,\n",
       " 2246,\n",
       " 5122,\n",
       " 1998,\n",
       " 9205,\n",
       " 1012,\n",
       " 1045,\n",
       " 28616,\n",
       " 10359,\n",
       " 2023,\n",
       " 2173,\n",
       " 1012,\n",
       " 1045,\n",
       " 1521,\n",
       " 1049,\n",
       " 2025,\n",
       " 13545,\n",
       " 1997,\n",
       " 2009,\n",
       " 2870,\n",
       " 1012,\n",
       " 2037,\n",
       " 10491,\n",
       " 2081,\n",
       " 1037,\n",
       " 2210,\n",
       " 2479,\n",
       " 1997,\n",
       " 2422,\n",
       " 1010,\n",
       " 2021,\n",
       " 2035,\n",
       " 2105,\n",
       " 2068,\n",
       " 7121,\n",
       " 1037,\n",
       " 2712,\n",
       " 1997,\n",
       " 4768,\n",
       " 1010,\n",
       " 16655,\n",
       " 15683,\n",
       " 1012,\n",
       " 102,\n",
       " 0,\n",
       " 0]"
      ]
     },
     "execution_count": 105,
     "metadata": {},
     "output_type": "execute_result"
    }
   ],
   "source": [
    "orig_int_list"
   ]
  },
  {
   "cell_type": "code",
   "execution_count": 104,
   "metadata": {},
   "outputs": [
    {
     "data": {
      "text/plain": [
       "128"
      ]
     },
     "execution_count": 104,
     "metadata": {},
     "output_type": "execute_result"
    }
   ],
   "source": [
    "aug_int_list"
   ]
  },
  {
   "cell_type": "code",
   "execution_count": 107,
   "metadata": {},
   "outputs": [],
   "source": [
    "a = list(zip(orig_int_list, aug_int_list))"
   ]
  },
  {
   "cell_type": "code",
   "execution_count": 108,
   "metadata": {},
   "outputs": [
    {
     "data": {
      "text/plain": [
       "[(101, 101),\n",
       " (9848, 3048),\n",
       " (2638, 1010),\n",
       " (2001, 4030),\n",
       " (3048, 1998),\n",
       " (1010, 15705),\n",
       " (4030, 1010),\n",
       " (1998, 4690),\n",
       " (15705, 2000),\n",
       " (1010, 2192),\n",
       " (4690, 1025),\n",
       " (2000, 3357),\n",
       " (2192, 1010),\n",
       " (1025, 2735),\n",
       " (3357, 1010),\n",
       " (1010, 1998),\n",
       " (2735, 4952),\n",
       " (1010, 6618),\n",
       " (1998, 7198),\n",
       " (4952, 4580),\n",
       " (1012, 3357),\n",
       " (2169, 2081),\n",
       " (3357, 1037),\n",
       " (2081, 12150),\n",
       " (1037, 17624),\n",
       " (2210, 5932),\n",
       " (17624, 4576),\n",
       " (1012, 1037),\n",
       " (1037, 5430),\n",
       " (5430, 7006),\n",
       " (7006, 1029),\n",
       " (1029, 18704),\n",
       " (18704, 12155),\n",
       " (12155, 20899),\n",
       " (20899, 1029),\n",
       " (1029, 2070),\n",
       " (2070, 4562),\n",
       " (4562, 1029),\n",
       " (1029, 2425),\n",
       " (2425, 11112),\n",
       " (2033, 1010),\n",
       " (1010, 14519),\n",
       " (14519, 1012),\n",
       " (1012, 2054),\n",
       " (2054, 3268),\n",
       " (3268, 2182),\n",
       " (2182, 1029),\n",
       " (1029, 2054),\n",
       " (2054, 3268),\n",
       " (3268, 1999),\n",
       " (1999, 1006),\n",
       " (1996, 4768),\n",
       " (4768, 3628),\n",
       " (1029, 12677),\n",
       " (12677, 1012),\n",
       " (1012, 2053),\n",
       " (2053, 4562),\n",
       " (4562, 1010),\n",
       " (1010, 2002),\n",
       " (2002, 2354),\n",
       " (2354, 1012),\n",
       " (1012, 2053),\n",
       " (2053, 22653),\n",
       " (7006, 1012),\n",
       " (1012, 2069),\n",
       " (2069, 12677),\n",
       " (12677, 1012),\n",
       " (1012, 1999),\n",
       " (1999, 1996),\n",
       " (1996, 4658),\n",
       " (4658, 21666),\n",
       " (21666, 1011),\n",
       " (1011, 2630),\n",
       " (2630, 2422),\n",
       " (2422, 1997),\n",
       " (1997, 1996),\n",
       " (1996, 10689),\n",
       " (10689, 1010),\n",
       " (1010, 1996),\n",
       " (1996, 2502),\n",
       " (2502, 19181),\n",
       " (19181, 2818),\n",
       " (2818, 2246),\n",
       " (2246, 5122),\n",
       " (5122, 1998),\n",
       " (1998, 9205),\n",
       " (9205, 1012),\n",
       " (1012, 1045),\n",
       " (1045, 28616),\n",
       " (28616, 10359),\n",
       " (10359, 2023),\n",
       " (2023, 2173),\n",
       " (2173, 1012),\n",
       " (1012, 1045),\n",
       " (1045, 1521),\n",
       " (1521, 14477),\n",
       " (1049, 27843),\n",
       " (2025, 3593),\n",
       " (13545, 2025),\n",
       " (1997, 13545),\n",
       " (2009, 1997),\n",
       " (2870, 2009),\n",
       " (1012, 2870),\n",
       " (2037, 1012),\n",
       " (10491, 2037),\n",
       " (2081, 2438),\n",
       " (1037, 2081),\n",
       " (2210, 1037),\n",
       " (2479, 2210),\n",
       " (1997, 4830),\n",
       " (2422, 15499),\n",
       " (1010, 1997),\n",
       " (2021, 2422),\n",
       " (2035, 1010),\n",
       " (2105, 2021),\n",
       " (2068, 2035),\n",
       " (7121, 2105),\n",
       " (1037, 2068),\n",
       " (2712, 7121),\n",
       " (1997, 5615),\n",
       " (4768, 2712),\n",
       " (1010, 11565),\n",
       " (16655, 4768),\n",
       " (15683, 1010),\n",
       " (1012, 16655),\n",
       " (102, 15683),\n",
       " (0, 1012),\n",
       " (0, 102)]"
      ]
     },
     "execution_count": 108,
     "metadata": {},
     "output_type": "execute_result"
    }
   ],
   "source": [
    "a"
   ]
  },
  {
   "cell_type": "code",
   "execution_count": null,
   "metadata": {},
   "outputs": [],
   "source": []
  }
 ],
 "metadata": {
  "kernelspec": {
   "display_name": "tf114",
   "language": "python",
   "name": "tf114"
  },
  "language_info": {
   "codemirror_mode": {
    "name": "ipython",
    "version": 3
   },
   "file_extension": ".py",
   "mimetype": "text/x-python",
   "name": "python",
   "nbconvert_exporter": "python",
   "pygments_lexer": "ipython3",
   "version": "3.7.3"
  }
 },
 "nbformat": 4,
 "nbformat_minor": 2
}
