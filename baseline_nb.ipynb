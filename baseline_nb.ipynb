{
 "cells": [
  {
   "cell_type": "markdown",
   "metadata": {},
   "source": [
    "# Baseline Model\n",
    "## Game of Thrones Text Classification\n",
    "### T. P. Goter\n",
    "### W266 Final Project\n",
    "### Fall 2019\n",
    "\n",
    "This notebook is used to generate a Naive Bayes model for text classification using training data generated for the Game of Thrones novel. A simple GridSearch with cross validation is done for each model in order to empirically determine the best parameter of for smoothing (i.e., alpha). Both unigram and bigram models are considered. Additionally, consideration is given to a tfidf vectorication vice a simple word count vectorization. The results of these studies show that all four models perform about the same and have precision, recall and f1 scores near 0.70. Class 5 (i.e., Book 5) shows as the most easily predicted. This isn't really surprising given books four and five were focused on a subset of the characters. Thus, word counts of character names likely are better indicators for these books. With 70% accuracy as our baseline score on the development set, there is plenty of room for further improvement with BERT and the UDA techniques."
   ]
  },
  {
   "cell_type": "code",
   "execution_count": 18,
   "metadata": {},
   "outputs": [],
   "source": [
    "# This tells matplotlib not to try opening a new window for each plot.\n",
    "%matplotlib inline\n",
    "\n",
    "# General libraries.\n",
    "import re\n",
    "import os\n",
    "import numpy as np\n",
    "import matplotlib.pyplot as plt\n",
    "import pandas as pd\n",
    "\n",
    "# SK-learn libraries for learning.\n",
    "from sklearn.pipeline import Pipeline\n",
    "from sklearn.naive_bayes import MultinomialNB\n",
    "from sklearn.model_selection import GridSearchCV\n",
    "\n",
    "# SK-learn libraries for evaluation.\n",
    "from sklearn.metrics import confusion_matrix\n",
    "from sklearn import metrics\n",
    "from sklearn.metrics import classification_report\n",
    "\n",
    "# SK-learn libraries for feature extraction from text.\n",
    "from sklearn.feature_extraction.text import *\n",
    "\n",
    "# import the tokenization module\n",
    "from utils import tokenization"
   ]
  },
  {
   "cell_type": "markdown",
   "metadata": {},
   "source": [
    "## Load Data\n",
    "For consistency between our BERT, XLNet and baseline models, we want to use the same subsets of training examples. We do this by reading in the already pre-processed datasets that were generated for the BERT evaluations. As such these examples are already tokenized. For a Naive-Bayes classifier, this should not be an issue, but it is something to be aware of."
   ]
  },
  {
   "cell_type": "code",
   "execution_count": 19,
   "metadata": {},
   "outputs": [
    {
     "name": "stdout",
     "output_type": "stream",
     "text": [
      "dict_keys(['train_20', 'train_200', 'train_2000', 'train_5000', 'train_12000', 'dev', 'test'])\n"
     ]
    }
   ],
   "source": [
    "# Read the data into dataframes stored in a dictionary\n",
    "dfs = {}\n",
    "for case in 'train dev test'.split():\n",
    "    if case == 'train':\n",
    "        for exs in '20 200 2000 5000 12000'.split():\n",
    "            case = 'train_{}'.format(exs)\n",
    "            dfs[case] = pd.read_pickle(os.path.join('Data/proc_data/GoT',case,case + '.pkl'))\n",
    "    else:\n",
    "        dfs[case] = pd.read_pickle(os.path.join('Data/proc_data/GoT',case,case + '.pkl'))\n",
    "\n",
    "print(dfs.keys())"
   ]
  },
  {
   "cell_type": "code",
   "execution_count": 20,
   "metadata": {},
   "outputs": [],
   "source": [
    "def create_basic_model(df_train, df_dev, bigram=False, tfidf=False, tokenize=False):\n",
    "    '''\n",
    "    Function to train and evalute a multinomial naive bayes model.\n",
    "    :param: bigram: Boolean, use unigram and bigrams\n",
    "    :param: tfidf: Boolean, use tfidf weighting during feature vectorization\n",
    "    :param: tokenize: Boolean, use WordPiece tokenization with BERT input vocabulary\n",
    "    '''\n",
    "    # Set up a range of alphas to test\n",
    "    alphas = {'alpha': [0.0001, 0.001, 0.01, 0.1, 0.5, 1.0, 2.0, 10.0]}\n",
    "     \n",
    "    # Get data and labels from dataframe   \n",
    "    train_data = df_train.seq\n",
    "    train_y = df_train.label\n",
    "    dev_data = df_dev.seq\n",
    "    dev_y = df_dev.label\n",
    "    \n",
    "    # Instantiate the count vectorizer\n",
    "    if bigram:\n",
    "        if tfidf:\n",
    "            vectorizer = TfidfVectorizer(ngram_range=(1,2))\n",
    "        else:\n",
    "            vectorizer = CountVectorizer(ngram_range=(1,2))\n",
    "    else:\n",
    "        if tfidf:\n",
    "            vectorizer = TfidfVectorizer()\n",
    "        else:\n",
    "            vectorizer = CountVectorizer()\n",
    "    \n",
    "    # Generate the Feature Vectors\n",
    "    train_X = vectorizer.fit_transform(train_data)    \n",
    "    \n",
    "    # Generate the vocabulary for the dev data\n",
    "    dev_X = vectorizer.transform(dev_data)\n",
    "       \n",
    "    # Fit the model\n",
    "    clf = MultinomialNB()\n",
    "    \n",
    "    # Run a grid search over alpha (smoothing) values to determine best \n",
    "    gs_clf = GridSearchCV(clf, param_grid=alphas, cv=4, return_train_score=True)\n",
    "    gs_clf.fit(train_X, train_y)\n",
    "    \n",
    "    # Display the best parameter\n",
    "    print(50 * \"=\")\n",
    "    print(\"The best alpha value was determined to be {}\".format(gs_clf.best_params_['alpha']))\n",
    "    print(50 * \"=\")\n",
    "\n",
    "    # Let's make some predictions using the best classifier\n",
    "    y_pred = gs_clf.best_estimator_.predict(dev_X)\n",
    "    \n",
    "    # Calculate Accuracy and Error Rate\n",
    "    acc = sum(dev_y==y_pred)/len(dev_y)\n",
    "    err_rate = 1- acc\n",
    "       \n",
    "    print(\"Accuracy: {:0.3f}\".format(acc))\n",
    "    print(50 * \"=\")\n",
    "    print(classification_report(y_pred, dev_y))\n",
    "    print(confusion_matrix(dev_y, y_pred))\n",
    "    \n",
    "    return err_rate\n"
   ]
  },
  {
   "cell_type": "markdown",
   "metadata": {},
   "source": [
    "## Basic Unigram Model\n",
    "\n",
    "Metrics we will consider are precision, recall, and F1-score. Remember that:\n",
    "\n",
    "- Precision: Number of items labeled as class A that are actually class A. - How many false positives?\n",
    "- Recall: Number of items labeled as class A normalized to all things that are class A. - How many false negatives?\n",
    "- F1 Score: Harmonic mean of Precision and Recall\n"
   ]
  },
  {
   "cell_type": "code",
   "execution_count": 21,
   "metadata": {},
   "outputs": [
    {
     "name": "stdout",
     "output_type": "stream",
     "text": [
      "==================================================\n",
      "The best alpha value was determined to be 1.0\n",
      "==================================================\n",
      "Accuracy: 0.665\n",
      "==================================================\n",
      "              precision    recall  f1-score   support\n",
      "\n",
      "           1       0.79      0.62      0.70       536\n",
      "           2       0.53      0.61      0.57       426\n",
      "           3       0.56      0.64      0.60       520\n",
      "           4       0.78      0.65      0.71       493\n",
      "           5       0.70      0.78      0.74       526\n",
      "\n",
      "   micro avg       0.66      0.66      0.66      2501\n",
      "   macro avg       0.67      0.66      0.66      2501\n",
      "weighted avg       0.68      0.66      0.67      2501\n",
      "\n",
      "[[335  36  29  13  11]\n",
      " [ 92 261  71  38  27]\n",
      " [ 70  84 333  55  50]\n",
      " [ 11  16  37 321  26]\n",
      " [ 28  29  50  66 412]]\n"
     ]
    }
   ],
   "source": [
    "uni_error = create_basic_model(dfs['train_12000'], dfs['dev'])"
   ]
  },
  {
   "cell_type": "markdown",
   "metadata": {},
   "source": [
    "## Bigram Model"
   ]
  },
  {
   "cell_type": "code",
   "execution_count": 22,
   "metadata": {},
   "outputs": [
    {
     "name": "stdout",
     "output_type": "stream",
     "text": [
      "==================================================\n",
      "The best alpha value was determined to be 0.5\n",
      "==================================================\n",
      "Accuracy: 0.705\n",
      "==================================================\n",
      "              precision    recall  f1-score   support\n",
      "\n",
      "           1       0.83      0.65      0.72       542\n",
      "           2       0.59      0.66      0.63       439\n",
      "           3       0.61      0.72      0.66       500\n",
      "           4       0.84      0.67      0.75       514\n",
      "           5       0.72      0.83      0.77       506\n",
      "\n",
      "   micro avg       0.71      0.71      0.71      2501\n",
      "   macro avg       0.72      0.71      0.70      2501\n",
      "weighted avg       0.72      0.71      0.71      2501\n",
      "\n",
      "[[350  39  21   9   5]\n",
      " [ 95 290  54  32  18]\n",
      " [ 60  70 359  58  45]\n",
      " [ 13  17  16 346  19]\n",
      " [ 24  23  50  69 419]]\n"
     ]
    }
   ],
   "source": [
    "bi_error = create_basic_model(dfs['train_12000'], dfs['dev'], bigram=True)"
   ]
  },
  {
   "cell_type": "code",
   "execution_count": 26,
   "metadata": {},
   "outputs": [
    {
     "data": {
      "text/plain": [
       "3    592\n",
       "5    585\n",
       "2    489\n",
       "1    424\n",
       "4    411\n",
       "Name: label, dtype: int64"
      ]
     },
     "execution_count": 26,
     "metadata": {},
     "output_type": "execute_result"
    }
   ],
   "source": [
    "dfs['dev'].label.value_counts()"
   ]
  },
  {
   "cell_type": "markdown",
   "metadata": {},
   "source": [
    "## Unigram Model with Tf-Idf Weighting"
   ]
  },
  {
   "cell_type": "code",
   "execution_count": 25,
   "metadata": {},
   "outputs": [
    {
     "name": "stdout",
     "output_type": "stream",
     "text": [
      "==================================================\n",
      "The best alpha value was determined to be 0.5\n",
      "==================================================\n",
      "Accuracy: 0.656\n",
      "==================================================\n",
      "              precision    recall  f1-score   support\n",
      "\n",
      "           1       0.80      0.61      0.69       559\n",
      "           2       0.52      0.62      0.57       410\n",
      "           3       0.58      0.63      0.60       545\n",
      "           4       0.76      0.64      0.70       489\n",
      "           5       0.67      0.79      0.73       498\n",
      "\n",
      "   micro avg       0.66      0.66      0.66      2501\n",
      "   macro avg       0.67      0.66      0.66      2501\n",
      "weighted avg       0.67      0.66      0.66      2501\n",
      "\n",
      "[[340  33  32  10   9]\n",
      " [100 254  74  37  24]\n",
      " [ 72  79 341  56  44]\n",
      " [ 17  17  36 313  28]\n",
      " [ 30  27  62  73 393]]\n"
     ]
    }
   ],
   "source": [
    "uni_tfidf_error = create_basic_model(dfs['train_12000'], dfs['dev'], tfidf=True)"
   ]
  },
  {
   "cell_type": "markdown",
   "metadata": {},
   "source": [
    "## Bigram Model with Tf-Idf Weighting"
   ]
  },
  {
   "cell_type": "code",
   "execution_count": 27,
   "metadata": {},
   "outputs": [
    {
     "name": "stdout",
     "output_type": "stream",
     "text": [
      "==================================================\n",
      "The best alpha value was determined to be 0.1\n",
      "==================================================\n",
      "Accuracy: 0.711\n",
      "==================================================\n",
      "              precision    recall  f1-score   support\n",
      "\n",
      "           1       0.83      0.65      0.73       539\n",
      "           2       0.59      0.68      0.63       423\n",
      "           3       0.63      0.70      0.66       528\n",
      "           4       0.83      0.68      0.75       506\n",
      "           5       0.73      0.84      0.78       505\n",
      "\n",
      "   micro avg       0.71      0.71      0.71      2501\n",
      "   macro avg       0.72      0.71      0.71      2501\n",
      "weighted avg       0.73      0.71      0.71      2501\n",
      "\n",
      "[[351  34  26   8   5]\n",
      " [ 98 288  58  31  14]\n",
      " [ 58  67 371  55  41]\n",
      " [ 13  16  19 343  20]\n",
      " [ 19  18  54  69 425]]\n"
     ]
    }
   ],
   "source": [
    "bi_tfidf_error = create_basic_model(dfs['train_12000'], dfs['dev'], tfidf=True, bigram=True)"
   ]
  },
  {
   "cell_type": "markdown",
   "metadata": {},
   "source": [
    "## Baseline Evaluations\n",
    "Based on the simple model sensitivites performed above, we will use a bigram NaiveBayes model with a simple CountVectorizer as our baseline model. We will evaluate baseline performance on all subsets of training data and generate results based on evaluation on the test set."
   ]
  },
  {
   "cell_type": "code",
   "execution_count": 28,
   "metadata": {},
   "outputs": [
    {
     "name": "stdout",
     "output_type": "stream",
     "text": [
      "==================================================\n",
      "The best alpha value was determined to be 0.5\n",
      "==================================================\n",
      "Accuracy: 0.678\n",
      "==================================================\n",
      "              precision    recall  f1-score   support\n",
      "\n",
      "           1       0.84      0.62      0.71       428\n",
      "           2       0.57      0.65      0.61       345\n",
      "           3       0.54      0.62      0.58       383\n",
      "           4       0.81      0.69      0.75       367\n",
      "           5       0.70      0.80      0.74       415\n",
      "\n",
      "   micro avg       0.68      0.68      0.68      1938\n",
      "   macro avg       0.69      0.68      0.68      1938\n",
      "weighted avg       0.70      0.68      0.68      1938\n",
      "\n",
      "[[265  25  19   3   2]\n",
      " [ 76 225  53  24  19]\n",
      " [ 41  63 239  46  50]\n",
      " [ 12  10  25 255  14]\n",
      " [ 34  22  47  39 330]]\n"
     ]
    }
   ],
   "source": [
    "bi_error_12000 = create_basic_model(dfs['train_12000'], dfs['test'], bigram=True)"
   ]
  },
  {
   "cell_type": "code",
   "execution_count": 29,
   "metadata": {},
   "outputs": [
    {
     "name": "stdout",
     "output_type": "stream",
     "text": [
      "==================================================\n",
      "The best alpha value was determined to be 0.5\n",
      "==================================================\n",
      "Accuracy: 0.618\n",
      "==================================================\n",
      "              precision    recall  f1-score   support\n",
      "\n",
      "           1       0.82      0.54      0.65       477\n",
      "           2       0.50      0.59      0.54       332\n",
      "           3       0.42      0.55      0.47       334\n",
      "           4       0.76      0.66      0.71       362\n",
      "           5       0.68      0.74      0.71       433\n",
      "\n",
      "   micro avg       0.62      0.62      0.62      1938\n",
      "   macro avg       0.63      0.62      0.62      1938\n",
      "weighted avg       0.65      0.62      0.62      1938\n",
      "\n",
      "[[258  29  18   7   2]\n",
      " [ 96 197  55  25  24]\n",
      " [ 63  69 183  52  72]\n",
      " [ 20  15  28 239  14]\n",
      " [ 40  22  50  39 321]]\n"
     ]
    }
   ],
   "source": [
    "bi_error_5000 = create_basic_model(dfs['train_5000'], dfs['test'], bigram=True)"
   ]
  },
  {
   "cell_type": "code",
   "execution_count": 30,
   "metadata": {},
   "outputs": [
    {
     "name": "stdout",
     "output_type": "stream",
     "text": [
      "==================================================\n",
      "The best alpha value was determined to be 0.5\n",
      "==================================================\n",
      "Accuracy: 0.578\n",
      "==================================================\n",
      "              precision    recall  f1-score   support\n",
      "\n",
      "           1       0.82      0.51      0.63       499\n",
      "           2       0.45      0.53      0.48       335\n",
      "           3       0.39      0.49      0.43       346\n",
      "           4       0.74      0.61      0.67       386\n",
      "           5       0.60      0.76      0.67       372\n",
      "\n",
      "   micro avg       0.58      0.58      0.58      1938\n",
      "   macro avg       0.60      0.58      0.58      1938\n",
      "weighted avg       0.62      0.58      0.58      1938\n",
      "\n",
      "[[256  27  22   6   3]\n",
      " [ 96 177  65  39  20]\n",
      " [ 72  79 170  65  53]\n",
      " [ 22  18  29 234  13]\n",
      " [ 53  34  60  42 283]]\n"
     ]
    }
   ],
   "source": [
    "bi_error_2000 = create_basic_model(dfs['train_2000'], dfs['test'], bigram=True)"
   ]
  },
  {
   "cell_type": "code",
   "execution_count": 31,
   "metadata": {},
   "outputs": [
    {
     "name": "stdout",
     "output_type": "stream",
     "text": [
      "==================================================\n",
      "The best alpha value was determined to be 1.0\n",
      "==================================================\n",
      "Accuracy: 0.378\n",
      "==================================================\n",
      "              precision    recall  f1-score   support\n",
      "\n",
      "           1       0.58      0.40      0.47       457\n",
      "           2       0.18      0.36      0.24       199\n",
      "           3       0.39      0.30      0.34       574\n",
      "           4       0.45      0.37      0.40       385\n",
      "           5       0.36      0.52      0.43       323\n",
      "\n",
      "   micro avg       0.38      0.38      0.38      1938\n",
      "   macro avg       0.39      0.39      0.37      1938\n",
      "weighted avg       0.42      0.38      0.39      1938\n",
      "\n",
      "[[181  17  72  25  19]\n",
      " [ 85  71 137  67  37]\n",
      " [ 84  54 170  76  55]\n",
      " [ 36  30  66 141  43]\n",
      " [ 71  27 129  76 169]]\n"
     ]
    }
   ],
   "source": [
    "bi_error_200 = create_basic_model(dfs['train_200'], dfs['test'], bigram=True)"
   ]
  },
  {
   "cell_type": "code",
   "execution_count": 32,
   "metadata": {},
   "outputs": [
    {
     "name": "stdout",
     "output_type": "stream",
     "text": [
      "==================================================\n",
      "The best alpha value was determined to be 0.5\n",
      "==================================================\n",
      "Accuracy: 0.253\n",
      "==================================================\n",
      "              precision    recall  f1-score   support\n",
      "\n",
      "           1       0.26      0.29      0.27       285\n",
      "           2       0.09      0.20      0.12       178\n",
      "           3       0.65      0.25      0.36      1161\n",
      "           4       0.15      0.21      0.17       218\n",
      "           5       0.09      0.44      0.15        96\n",
      "\n",
      "   micro avg       0.25      0.25      0.25      1938\n",
      "   macro avg       0.25      0.28      0.21      1938\n",
      "weighted avg       0.46      0.25      0.29      1938\n",
      "\n",
      "[[ 82  24 177  28   3]\n",
      " [ 58  35 235  51  18]\n",
      " [ 45  44 285  42  23]\n",
      " [ 32  32 196  46  10]\n",
      " [ 68  43 268  51  42]]\n"
     ]
    }
   ],
   "source": [
    "bi_error_20 = create_basic_model(dfs['train_20'], dfs['test'], bigram=True)"
   ]
  },
  {
   "cell_type": "code",
   "execution_count": 55,
   "metadata": {},
   "outputs": [
    {
     "data": {
      "image/png": "[encoded data removed]",
      "text/plain": [
       "<Figure size 432x288 with 1 Axes>"
      ]
     },
     "metadata": {
      "needs_background": "light"
     },
     "output_type": "display_data"
    }
   ],
   "source": [
    "error_rates = np.array([bi_error_20, bi_error_200, bi_error_2000, bi_error_5000, bi_error_12000])\n",
    "training_data_sizes = np.array([20,200,2000,5000,12000])\n",
    "fig, ax = plt.subplots()\n",
    "plt.scatter(training_data_sizes, error_rates, c='tab:red',s=50)\n",
    "ax.set(ylim=(0,1.0))\n",
    "plt.xlabel('Training Set Size', fontsize=15)\n",
    "plt.ylabel('Classification Error Rate', fontsize=15)\n",
    "plt.grid(True,axis='y')\n",
    "plt.savefig('report/working/baseline.png')"
   ]
  },
  {
   "cell_type": "code",
   "execution_count": 56,
   "metadata": {},
   "outputs": [
    {
     "data": {
      "text/plain": [
       "array([0.74716202, 0.62229102, 0.42208462, 0.38183695, 0.32198142])"
      ]
     },
     "execution_count": 56,
     "metadata": {},
     "output_type": "execute_result"
    }
   ],
   "source": [
    "error_rates"
   ]
  },
  {
   "cell_type": "code",
   "execution_count": 57,
   "metadata": {},
   "outputs": [],
   "source": [
    "error_df = pd.DataFrame()\n",
    "error_df['bl_errors'] = error_rates\n",
    "error_df['datasets'] = training_data_sizes\n",
    "error_df.to_pickle('./errors.pkl')"
   ]
  },
  {
   "cell_type": "code",
   "execution_count": null,
   "metadata": {},
   "outputs": [],
   "source": []
  }
 ],
 "metadata": {
  "kernelspec": {
   "display_name": "Python 3",
   "language": "python",
   "name": "python3"
  },
  "language_info": {
   "codemirror_mode": {
    "name": "ipython",
    "version": 3
   },
   "file_extension": ".py",
   "mimetype": "text/x-python",
   "name": "python",
   "nbconvert_exporter": "python",
   "pygments_lexer": "ipython3",
   "version": "3.7.3"
  }
 },
 "nbformat": 4,
 "nbformat_minor": 2
}
